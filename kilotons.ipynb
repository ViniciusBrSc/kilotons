{
 "cells": [
  {
   "cell_type": "markdown",
   "id": "992dfc16",
   "metadata": {},
   "source": [
    "# CO2 Emissions Dataset"
   ]
  },
  {
   "cell_type": "markdown",
   "id": "da9d6460",
   "metadata": {},
   "source": [
    "## Requirements"
   ]
  },
  {
   "cell_type": "markdown",
   "id": "e0adfd4e",
   "metadata": {},
   "source": [
    "- Virtual environment with Python 3.12.10\n",
    "- pip install -r requirements.txt\n",
    "- That includes:\n",
    "    - jupyter\n",
    "    - pandas\n",
    "    - pyarrow\n",
    "    - matplotlib\n",
    "    - plotly"
   ]
  },
  {
   "cell_type": "code",
   "execution_count": 1,
   "id": "08f186c8",
   "metadata": {},
   "outputs": [],
   "source": [
    "import pandas as pd"
   ]
  },
  {
   "cell_type": "markdown",
   "id": "51d530b0",
   "metadata": {},
   "source": [
    "## Transforming to parquet"
   ]
  },
  {
   "cell_type": "code",
   "execution_count": 2,
   "id": "07ab6f6c",
   "metadata": {},
   "outputs": [],
   "source": [
    "def csv_to_parquet(filename: str):\n",
    "    pd.read_csv(filename).to_parquet(filename.removesuffix(\".csv\") + \".parquet\")\n",
    "\n",
    "\n",
    "csv_to_parquet(\"data/raw/Emissão_CO2_por_países.csv\")"
   ]
  },
  {
   "cell_type": "markdown",
   "id": "de4945e3",
   "metadata": {},
   "source": [
    "## Loading from parquet"
   ]
  },
  {
   "cell_type": "code",
   "execution_count": 3,
   "id": "faf1c955",
   "metadata": {},
   "outputs": [
    {
     "data": {
      "text/html": [
       "<div>\n",
       "<style scoped>\n",
       "    .dataframe tbody tr th:only-of-type {\n",
       "        vertical-align: middle;\n",
       "    }\n",
       "\n",
       "    .dataframe tbody tr th {\n",
       "        vertical-align: top;\n",
       "    }\n",
       "\n",
       "    .dataframe thead th {\n",
       "        text-align: right;\n",
       "    }\n",
       "</style>\n",
       "<table border=\"1\" class=\"dataframe\">\n",
       "  <thead>\n",
       "    <tr style=\"text-align: right;\">\n",
       "      <th></th>\n",
       "      <th>Country</th>\n",
       "      <th>Region</th>\n",
       "      <th>Date</th>\n",
       "      <th>Kilotons of Co2</th>\n",
       "      <th>Metric Tons Per Capita</th>\n",
       "    </tr>\n",
       "  </thead>\n",
       "  <tbody>\n",
       "    <tr>\n",
       "      <th>0</th>\n",
       "      <td>Afghanistan</td>\n",
       "      <td>Asia</td>\n",
       "      <td>01-01-2011</td>\n",
       "      <td>8930.0</td>\n",
       "      <td>0.31</td>\n",
       "    </tr>\n",
       "    <tr>\n",
       "      <th>1</th>\n",
       "      <td>Afghanistan</td>\n",
       "      <td>Asia</td>\n",
       "      <td>01-01-2012</td>\n",
       "      <td>8080.0</td>\n",
       "      <td>0.27</td>\n",
       "    </tr>\n",
       "    <tr>\n",
       "      <th>2</th>\n",
       "      <td>None</td>\n",
       "      <td>Asia</td>\n",
       "      <td>01-01-2010</td>\n",
       "      <td>7110.0</td>\n",
       "      <td>0.25</td>\n",
       "    </tr>\n",
       "    <tr>\n",
       "      <th>3</th>\n",
       "      <td>None</td>\n",
       "      <td>Asia</td>\n",
       "      <td>01-01-2019</td>\n",
       "      <td>6080.0</td>\n",
       "      <td>0.16</td>\n",
       "    </tr>\n",
       "    <tr>\n",
       "      <th>4</th>\n",
       "      <td>None</td>\n",
       "      <td>Asia</td>\n",
       "      <td>01-01-2018</td>\n",
       "      <td>6070.0</td>\n",
       "      <td>0.17</td>\n",
       "    </tr>\n",
       "    <tr>\n",
       "      <th>...</th>\n",
       "      <td>...</td>\n",
       "      <td>...</td>\n",
       "      <td>...</td>\n",
       "      <td>...</td>\n",
       "      <td>...</td>\n",
       "    </tr>\n",
       "    <tr>\n",
       "      <th>5672</th>\n",
       "      <td>Zimbabwe</td>\n",
       "      <td>None</td>\n",
       "      <td>01-01-2004</td>\n",
       "      <td>9770.0</td>\n",
       "      <td>0.80</td>\n",
       "    </tr>\n",
       "    <tr>\n",
       "      <th>5673</th>\n",
       "      <td>Zimbabwe</td>\n",
       "      <td>None</td>\n",
       "      <td>01-01-2007</td>\n",
       "      <td>9760.0</td>\n",
       "      <td>0.78</td>\n",
       "    </tr>\n",
       "    <tr>\n",
       "      <th>5674</th>\n",
       "      <td>Zimbabwe</td>\n",
       "      <td>None</td>\n",
       "      <td>01-01-2010</td>\n",
       "      <td>9600.0</td>\n",
       "      <td>0.75</td>\n",
       "    </tr>\n",
       "    <tr>\n",
       "      <th>5675</th>\n",
       "      <td>Zimbabwe</td>\n",
       "      <td>None</td>\n",
       "      <td>01-01-2009</td>\n",
       "      <td>7750.0</td>\n",
       "      <td>0.61</td>\n",
       "    </tr>\n",
       "    <tr>\n",
       "      <th>5676</th>\n",
       "      <td>Zimbabwe</td>\n",
       "      <td>None</td>\n",
       "      <td>01-01-2008</td>\n",
       "      <td>NaN</td>\n",
       "      <td>0.61</td>\n",
       "    </tr>\n",
       "  </tbody>\n",
       "</table>\n",
       "<p>5677 rows × 5 columns</p>\n",
       "</div>"
      ],
      "text/plain": [
       "          Country Region        Date  Kilotons of Co2  Metric Tons Per Capita\n",
       "0     Afghanistan   Asia  01-01-2011           8930.0                    0.31\n",
       "1     Afghanistan   Asia  01-01-2012           8080.0                    0.27\n",
       "2            None   Asia  01-01-2010           7110.0                    0.25\n",
       "3            None   Asia  01-01-2019           6080.0                    0.16\n",
       "4            None   Asia  01-01-2018           6070.0                    0.17\n",
       "...           ...    ...         ...              ...                     ...\n",
       "5672     Zimbabwe   None  01-01-2004           9770.0                    0.80\n",
       "5673     Zimbabwe   None  01-01-2007           9760.0                    0.78\n",
       "5674     Zimbabwe   None  01-01-2010           9600.0                    0.75\n",
       "5675     Zimbabwe   None  01-01-2009           7750.0                    0.61\n",
       "5676     Zimbabwe   None  01-01-2008              NaN                    0.61\n",
       "\n",
       "[5677 rows x 5 columns]"
      ]
     },
     "execution_count": 3,
     "metadata": {},
     "output_type": "execute_result"
    }
   ],
   "source": [
    "df = pd.read_parquet(\"data/raw/Emissão_CO2_por_países.parquet\")\n",
    "df"
   ]
  },
  {
   "cell_type": "markdown",
   "id": "fa58b37a",
   "metadata": {},
   "source": [
    "# Data Cleaning"
   ]
  },
  {
   "cell_type": "markdown",
   "id": "7f86a15a",
   "metadata": {},
   "source": [
    "Renaming columns for convenience:"
   ]
  },
  {
   "cell_type": "code",
   "execution_count": 4,
   "id": "8af7d2f9",
   "metadata": {},
   "outputs": [
    {
     "data": {
      "text/html": [
       "<div>\n",
       "<style scoped>\n",
       "    .dataframe tbody tr th:only-of-type {\n",
       "        vertical-align: middle;\n",
       "    }\n",
       "\n",
       "    .dataframe tbody tr th {\n",
       "        vertical-align: top;\n",
       "    }\n",
       "\n",
       "    .dataframe thead th {\n",
       "        text-align: right;\n",
       "    }\n",
       "</style>\n",
       "<table border=\"1\" class=\"dataframe\">\n",
       "  <thead>\n",
       "    <tr style=\"text-align: right;\">\n",
       "      <th></th>\n",
       "      <th>country</th>\n",
       "      <th>region</th>\n",
       "      <th>date</th>\n",
       "      <th>kilotons</th>\n",
       "      <th>mtpc</th>\n",
       "    </tr>\n",
       "  </thead>\n",
       "  <tbody>\n",
       "    <tr>\n",
       "      <th>0</th>\n",
       "      <td>Afghanistan</td>\n",
       "      <td>Asia</td>\n",
       "      <td>01-01-2011</td>\n",
       "      <td>8930.0</td>\n",
       "      <td>0.31</td>\n",
       "    </tr>\n",
       "    <tr>\n",
       "      <th>1</th>\n",
       "      <td>Afghanistan</td>\n",
       "      <td>Asia</td>\n",
       "      <td>01-01-2012</td>\n",
       "      <td>8080.0</td>\n",
       "      <td>0.27</td>\n",
       "    </tr>\n",
       "    <tr>\n",
       "      <th>2</th>\n",
       "      <td>None</td>\n",
       "      <td>Asia</td>\n",
       "      <td>01-01-2010</td>\n",
       "      <td>7110.0</td>\n",
       "      <td>0.25</td>\n",
       "    </tr>\n",
       "    <tr>\n",
       "      <th>3</th>\n",
       "      <td>None</td>\n",
       "      <td>Asia</td>\n",
       "      <td>01-01-2019</td>\n",
       "      <td>6080.0</td>\n",
       "      <td>0.16</td>\n",
       "    </tr>\n",
       "    <tr>\n",
       "      <th>4</th>\n",
       "      <td>None</td>\n",
       "      <td>Asia</td>\n",
       "      <td>01-01-2018</td>\n",
       "      <td>6070.0</td>\n",
       "      <td>0.17</td>\n",
       "    </tr>\n",
       "    <tr>\n",
       "      <th>...</th>\n",
       "      <td>...</td>\n",
       "      <td>...</td>\n",
       "      <td>...</td>\n",
       "      <td>...</td>\n",
       "      <td>...</td>\n",
       "    </tr>\n",
       "    <tr>\n",
       "      <th>5672</th>\n",
       "      <td>Zimbabwe</td>\n",
       "      <td>None</td>\n",
       "      <td>01-01-2004</td>\n",
       "      <td>9770.0</td>\n",
       "      <td>0.80</td>\n",
       "    </tr>\n",
       "    <tr>\n",
       "      <th>5673</th>\n",
       "      <td>Zimbabwe</td>\n",
       "      <td>None</td>\n",
       "      <td>01-01-2007</td>\n",
       "      <td>9760.0</td>\n",
       "      <td>0.78</td>\n",
       "    </tr>\n",
       "    <tr>\n",
       "      <th>5674</th>\n",
       "      <td>Zimbabwe</td>\n",
       "      <td>None</td>\n",
       "      <td>01-01-2010</td>\n",
       "      <td>9600.0</td>\n",
       "      <td>0.75</td>\n",
       "    </tr>\n",
       "    <tr>\n",
       "      <th>5675</th>\n",
       "      <td>Zimbabwe</td>\n",
       "      <td>None</td>\n",
       "      <td>01-01-2009</td>\n",
       "      <td>7750.0</td>\n",
       "      <td>0.61</td>\n",
       "    </tr>\n",
       "    <tr>\n",
       "      <th>5676</th>\n",
       "      <td>Zimbabwe</td>\n",
       "      <td>None</td>\n",
       "      <td>01-01-2008</td>\n",
       "      <td>NaN</td>\n",
       "      <td>0.61</td>\n",
       "    </tr>\n",
       "  </tbody>\n",
       "</table>\n",
       "<p>5677 rows × 5 columns</p>\n",
       "</div>"
      ],
      "text/plain": [
       "          country region        date  kilotons  mtpc\n",
       "0     Afghanistan   Asia  01-01-2011    8930.0  0.31\n",
       "1     Afghanistan   Asia  01-01-2012    8080.0  0.27\n",
       "2            None   Asia  01-01-2010    7110.0  0.25\n",
       "3            None   Asia  01-01-2019    6080.0  0.16\n",
       "4            None   Asia  01-01-2018    6070.0  0.17\n",
       "...           ...    ...         ...       ...   ...\n",
       "5672     Zimbabwe   None  01-01-2004    9770.0  0.80\n",
       "5673     Zimbabwe   None  01-01-2007    9760.0  0.78\n",
       "5674     Zimbabwe   None  01-01-2010    9600.0  0.75\n",
       "5675     Zimbabwe   None  01-01-2009    7750.0  0.61\n",
       "5676     Zimbabwe   None  01-01-2008       NaN  0.61\n",
       "\n",
       "[5677 rows x 5 columns]"
      ]
     },
     "execution_count": 4,
     "metadata": {},
     "output_type": "execute_result"
    }
   ],
   "source": [
    "df = df.rename(\n",
    "    columns={\n",
    "        \"Region\": \"region\",\n",
    "        \"Country\": \"country\",\n",
    "        \"Date\": \"date\",\n",
    "        \"Kilotons of Co2\": \"kilotons\",\n",
    "        \"Metric Tons Per Capita\": \"mtpc\",\n",
    "    }\n",
    ")\n",
    "df"
   ]
  },
  {
   "cell_type": "markdown",
   "id": "9edb5fc1",
   "metadata": {},
   "source": [
    "Searching for duplicated lines:"
   ]
  },
  {
   "cell_type": "code",
   "execution_count": 5,
   "id": "dc8ffe1e",
   "metadata": {},
   "outputs": [
    {
     "data": {
      "text/plain": [
       "0"
      ]
     },
     "execution_count": 5,
     "metadata": {},
     "output_type": "execute_result"
    }
   ],
   "source": [
    "int(df.duplicated().sum()) # All lines are unique."
   ]
  },
  {
   "cell_type": "markdown",
   "id": "bbbd75a6",
   "metadata": {},
   "source": [
    "Getting informations about the dataset:"
   ]
  },
  {
   "cell_type": "code",
   "execution_count": 6,
   "id": "1707819e",
   "metadata": {},
   "outputs": [
    {
     "name": "stdout",
     "output_type": "stream",
     "text": [
      "<class 'pandas.core.frame.DataFrame'>\n",
      "RangeIndex: 5677 entries, 0 to 5676\n",
      "Data columns (total 5 columns):\n",
      " #   Column    Non-Null Count  Dtype  \n",
      "---  ------    --------------  -----  \n",
      " 0   country   5599 non-null   object \n",
      " 1   region    5653 non-null   object \n",
      " 2   date      5677 non-null   object \n",
      " 3   kilotons  5560 non-null   float64\n",
      " 4   mtpc      5677 non-null   float64\n",
      "dtypes: float64(2), object(3)\n",
      "memory usage: 221.9+ KB\n"
     ]
    }
   ],
   "source": [
    "df.info()\n",
    "# The date and mtpc columns have only non-null values.\n",
    "# The other ones shall be treated for that."
   ]
  },
  {
   "cell_type": "markdown",
   "id": "b236d514",
   "metadata": {},
   "source": [
    "## Dealing with regions"
   ]
  },
  {
   "cell_type": "markdown",
   "id": "3f64929f",
   "metadata": {},
   "source": [
    "Searching for typos:"
   ]
  },
  {
   "cell_type": "code",
   "execution_count": 7,
   "id": "da806273",
   "metadata": {},
   "outputs": [
    {
     "data": {
      "text/plain": [
       "region\n",
       "Africa      1558\n",
       "Asia        1388\n",
       "Europa      1221\n",
       "Americas    1041\n",
       "Oceania      408\n",
       "Euro           9\n",
       "Ocean          6\n",
       "américa        5\n",
       "ÁSia           5\n",
       "ASIA           4\n",
       "américas       3\n",
       "frica          3\n",
       "Ásia           1\n",
       "améric         1\n",
       "Name: count, dtype: int64"
      ]
     },
     "execution_count": 7,
     "metadata": {},
     "output_type": "execute_result"
    }
   ],
   "source": [
    "df[\"region\"].value_counts()"
   ]
  },
  {
   "cell_type": "markdown",
   "id": "8260c8ae",
   "metadata": {},
   "source": [
    "Correcting typos and standardizing the contents like the most frequent values:"
   ]
  },
  {
   "cell_type": "code",
   "execution_count": 8,
   "id": "f48ba362",
   "metadata": {},
   "outputs": [
    {
     "data": {
      "text/plain": [
       "region\n",
       "Africa      1561\n",
       "Asia        1398\n",
       "Europa      1230\n",
       "Americas    1050\n",
       "Oceania      414\n",
       "Name: count, dtype: int64"
      ]
     },
     "execution_count": 8,
     "metadata": {},
     "output_type": "execute_result"
    }
   ],
   "source": [
    "df[\"region\"] = df[\"region\"].replace(\n",
    "    {\n",
    "        \"Euro\": \"Europa\",\n",
    "        \"Ocean\": \"Oceania\",\n",
    "        \"américa\": \"Americas\",\n",
    "        \"ÁSia\": \"Asia\",\n",
    "        \"ASIA\": \"Asia\",\n",
    "        \"américas\": \"Americas\",\n",
    "        \"frica\": \"Africa\",\n",
    "        \"Ásia\": \"Asia\",\n",
    "        \"améric\": \"Americas\",\n",
    "    },\n",
    ")\n",
    "df[\"region\"].value_counts()"
   ]
  },
  {
   "cell_type": "markdown",
   "id": "af0d89a3",
   "metadata": {},
   "source": [
    "Visualizing nulls:"
   ]
  },
  {
   "cell_type": "code",
   "execution_count": 9,
   "id": "3b8a6a81",
   "metadata": {},
   "outputs": [
    {
     "data": {
      "text/html": [
       "<div>\n",
       "<style scoped>\n",
       "    .dataframe tbody tr th:only-of-type {\n",
       "        vertical-align: middle;\n",
       "    }\n",
       "\n",
       "    .dataframe tbody tr th {\n",
       "        vertical-align: top;\n",
       "    }\n",
       "\n",
       "    .dataframe thead th {\n",
       "        text-align: right;\n",
       "    }\n",
       "</style>\n",
       "<table border=\"1\" class=\"dataframe\">\n",
       "  <thead>\n",
       "    <tr style=\"text-align: right;\">\n",
       "      <th></th>\n",
       "      <th>country</th>\n",
       "      <th>region</th>\n",
       "      <th>date</th>\n",
       "      <th>kilotons</th>\n",
       "      <th>mtpc</th>\n",
       "    </tr>\n",
       "  </thead>\n",
       "  <tbody>\n",
       "    <tr>\n",
       "      <th>5653</th>\n",
       "      <td>Zimbabwe</td>\n",
       "      <td>None</td>\n",
       "      <td>01-01-1995</td>\n",
       "      <td>15480.0</td>\n",
       "      <td>1.41</td>\n",
       "    </tr>\n",
       "    <tr>\n",
       "      <th>5654</th>\n",
       "      <td>Zimbabwe</td>\n",
       "      <td>None</td>\n",
       "      <td>01-01-1996</td>\n",
       "      <td>14860.0</td>\n",
       "      <td>1.33</td>\n",
       "    </tr>\n",
       "    <tr>\n",
       "      <th>5655</th>\n",
       "      <td>Zimbabwe</td>\n",
       "      <td>None</td>\n",
       "      <td>01-01-1998</td>\n",
       "      <td>14070.0</td>\n",
       "      <td>1.22</td>\n",
       "    </tr>\n",
       "    <tr>\n",
       "      <th>5656</th>\n",
       "      <td>Zimbabwe</td>\n",
       "      <td>None</td>\n",
       "      <td>01-01-2001</td>\n",
       "      <td>13900.0</td>\n",
       "      <td>1.17</td>\n",
       "    </tr>\n",
       "    <tr>\n",
       "      <th>5657</th>\n",
       "      <td>Zimbabwe</td>\n",
       "      <td>None</td>\n",
       "      <td>01-01-1997</td>\n",
       "      <td>13830.0</td>\n",
       "      <td>1.22</td>\n",
       "    </tr>\n",
       "    <tr>\n",
       "      <th>5658</th>\n",
       "      <td>Zimbabwe</td>\n",
       "      <td>None</td>\n",
       "      <td>01-01-2000</td>\n",
       "      <td>13700.0</td>\n",
       "      <td>1.16</td>\n",
       "    </tr>\n",
       "    <tr>\n",
       "      <th>5659</th>\n",
       "      <td>Zimbabwe</td>\n",
       "      <td>None</td>\n",
       "      <td>01-01-2002</td>\n",
       "      <td>12490.0</td>\n",
       "      <td>1.04</td>\n",
       "    </tr>\n",
       "    <tr>\n",
       "      <th>5660</th>\n",
       "      <td>Zimbabwe</td>\n",
       "      <td>None</td>\n",
       "      <td>01-01-2015</td>\n",
       "      <td>12430.0</td>\n",
       "      <td>0.88</td>\n",
       "    </tr>\n",
       "    <tr>\n",
       "      <th>5661</th>\n",
       "      <td>Zimbabwe</td>\n",
       "      <td>None</td>\n",
       "      <td>01-01-2018</td>\n",
       "      <td>12380.0</td>\n",
       "      <td>0.82</td>\n",
       "    </tr>\n",
       "    <tr>\n",
       "      <th>5662</th>\n",
       "      <td>Zimbabwe</td>\n",
       "      <td>None</td>\n",
       "      <td>01-01-2013</td>\n",
       "      <td>12280.0</td>\n",
       "      <td>0.91</td>\n",
       "    </tr>\n",
       "    <tr>\n",
       "      <th>5663</th>\n",
       "      <td>Zimbabwe</td>\n",
       "      <td>None</td>\n",
       "      <td>01-01-2014</td>\n",
       "      <td>12080.0</td>\n",
       "      <td>0.87</td>\n",
       "    </tr>\n",
       "    <tr>\n",
       "      <th>5664</th>\n",
       "      <td>Zimbabwe</td>\n",
       "      <td>None</td>\n",
       "      <td>01-01-2012</td>\n",
       "      <td>12010.0</td>\n",
       "      <td>0.91</td>\n",
       "    </tr>\n",
       "    <tr>\n",
       "      <th>5665</th>\n",
       "      <td>Zimbabwe</td>\n",
       "      <td>None</td>\n",
       "      <td>01-01-2019</td>\n",
       "      <td>11760.0</td>\n",
       "      <td>0.77</td>\n",
       "    </tr>\n",
       "    <tr>\n",
       "      <th>5666</th>\n",
       "      <td>Zimbabwe</td>\n",
       "      <td>None</td>\n",
       "      <td>01-01-2011</td>\n",
       "      <td>11410.0</td>\n",
       "      <td>0.88</td>\n",
       "    </tr>\n",
       "    <tr>\n",
       "      <th>5667</th>\n",
       "      <td>Zimbabwe</td>\n",
       "      <td>None</td>\n",
       "      <td>01-01-2016</td>\n",
       "      <td>11020.0</td>\n",
       "      <td>0.76</td>\n",
       "    </tr>\n",
       "    <tr>\n",
       "      <th>5668</th>\n",
       "      <td>Zimbabwe</td>\n",
       "      <td>None</td>\n",
       "      <td>01-01-2005</td>\n",
       "      <td>10510.0</td>\n",
       "      <td>0.86</td>\n",
       "    </tr>\n",
       "    <tr>\n",
       "      <th>5669</th>\n",
       "      <td>Zimbabwe</td>\n",
       "      <td>None</td>\n",
       "      <td>01-01-2017</td>\n",
       "      <td>10340.0</td>\n",
       "      <td>0.70</td>\n",
       "    </tr>\n",
       "    <tr>\n",
       "      <th>5670</th>\n",
       "      <td>Zimbabwe</td>\n",
       "      <td>None</td>\n",
       "      <td>01-01-2003</td>\n",
       "      <td>10180.0</td>\n",
       "      <td>0.84</td>\n",
       "    </tr>\n",
       "    <tr>\n",
       "      <th>5671</th>\n",
       "      <td>Zimbabwe</td>\n",
       "      <td>None</td>\n",
       "      <td>01-01-2006</td>\n",
       "      <td>9830.0</td>\n",
       "      <td>0.80</td>\n",
       "    </tr>\n",
       "    <tr>\n",
       "      <th>5672</th>\n",
       "      <td>Zimbabwe</td>\n",
       "      <td>None</td>\n",
       "      <td>01-01-2004</td>\n",
       "      <td>9770.0</td>\n",
       "      <td>0.80</td>\n",
       "    </tr>\n",
       "    <tr>\n",
       "      <th>5673</th>\n",
       "      <td>Zimbabwe</td>\n",
       "      <td>None</td>\n",
       "      <td>01-01-2007</td>\n",
       "      <td>9760.0</td>\n",
       "      <td>0.78</td>\n",
       "    </tr>\n",
       "    <tr>\n",
       "      <th>5674</th>\n",
       "      <td>Zimbabwe</td>\n",
       "      <td>None</td>\n",
       "      <td>01-01-2010</td>\n",
       "      <td>9600.0</td>\n",
       "      <td>0.75</td>\n",
       "    </tr>\n",
       "    <tr>\n",
       "      <th>5675</th>\n",
       "      <td>Zimbabwe</td>\n",
       "      <td>None</td>\n",
       "      <td>01-01-2009</td>\n",
       "      <td>7750.0</td>\n",
       "      <td>0.61</td>\n",
       "    </tr>\n",
       "    <tr>\n",
       "      <th>5676</th>\n",
       "      <td>Zimbabwe</td>\n",
       "      <td>None</td>\n",
       "      <td>01-01-2008</td>\n",
       "      <td>NaN</td>\n",
       "      <td>0.61</td>\n",
       "    </tr>\n",
       "  </tbody>\n",
       "</table>\n",
       "</div>"
      ],
      "text/plain": [
       "       country region        date  kilotons  mtpc\n",
       "5653  Zimbabwe   None  01-01-1995   15480.0  1.41\n",
       "5654  Zimbabwe   None  01-01-1996   14860.0  1.33\n",
       "5655  Zimbabwe   None  01-01-1998   14070.0  1.22\n",
       "5656  Zimbabwe   None  01-01-2001   13900.0  1.17\n",
       "5657  Zimbabwe   None  01-01-1997   13830.0  1.22\n",
       "5658  Zimbabwe   None  01-01-2000   13700.0  1.16\n",
       "5659  Zimbabwe   None  01-01-2002   12490.0  1.04\n",
       "5660  Zimbabwe   None  01-01-2015   12430.0  0.88\n",
       "5661  Zimbabwe   None  01-01-2018   12380.0  0.82\n",
       "5662  Zimbabwe   None  01-01-2013   12280.0  0.91\n",
       "5663  Zimbabwe   None  01-01-2014   12080.0  0.87\n",
       "5664  Zimbabwe   None  01-01-2012   12010.0  0.91\n",
       "5665  Zimbabwe   None  01-01-2019   11760.0  0.77\n",
       "5666  Zimbabwe   None  01-01-2011   11410.0  0.88\n",
       "5667  Zimbabwe   None  01-01-2016   11020.0  0.76\n",
       "5668  Zimbabwe   None  01-01-2005   10510.0  0.86\n",
       "5669  Zimbabwe   None  01-01-2017   10340.0  0.70\n",
       "5670  Zimbabwe   None  01-01-2003   10180.0  0.84\n",
       "5671  Zimbabwe   None  01-01-2006    9830.0  0.80\n",
       "5672  Zimbabwe   None  01-01-2004    9770.0  0.80\n",
       "5673  Zimbabwe   None  01-01-2007    9760.0  0.78\n",
       "5674  Zimbabwe   None  01-01-2010    9600.0  0.75\n",
       "5675  Zimbabwe   None  01-01-2009    7750.0  0.61\n",
       "5676  Zimbabwe   None  01-01-2008       NaN  0.61"
      ]
     },
     "execution_count": 9,
     "metadata": {},
     "output_type": "execute_result"
    }
   ],
   "source": [
    "df[df[\"region\"].isna()]"
   ]
  },
  {
   "cell_type": "markdown",
   "id": "9ef440c7",
   "metadata": {},
   "source": [
    "Since Zimbabwe belongs to Africa, we may fill it in the dataframe directly:"
   ]
  },
  {
   "cell_type": "code",
   "execution_count": 10,
   "id": "700912cd",
   "metadata": {},
   "outputs": [
    {
     "data": {
      "text/html": [
       "<div>\n",
       "<style scoped>\n",
       "    .dataframe tbody tr th:only-of-type {\n",
       "        vertical-align: middle;\n",
       "    }\n",
       "\n",
       "    .dataframe tbody tr th {\n",
       "        vertical-align: top;\n",
       "    }\n",
       "\n",
       "    .dataframe thead th {\n",
       "        text-align: right;\n",
       "    }\n",
       "</style>\n",
       "<table border=\"1\" class=\"dataframe\">\n",
       "  <thead>\n",
       "    <tr style=\"text-align: right;\">\n",
       "      <th></th>\n",
       "      <th>country</th>\n",
       "      <th>region</th>\n",
       "      <th>date</th>\n",
       "      <th>kilotons</th>\n",
       "      <th>mtpc</th>\n",
       "    </tr>\n",
       "  </thead>\n",
       "  <tbody>\n",
       "  </tbody>\n",
       "</table>\n",
       "</div>"
      ],
      "text/plain": [
       "Empty DataFrame\n",
       "Columns: [country, region, date, kilotons, mtpc]\n",
       "Index: []"
      ]
     },
     "execution_count": 10,
     "metadata": {},
     "output_type": "execute_result"
    }
   ],
   "source": [
    "df[\"region\"] = df[\"region\"].fillna(\"Africa\")\n",
    "df[df[\"region\"].isna()]"
   ]
  },
  {
   "cell_type": "markdown",
   "id": "f5ba1651",
   "metadata": {},
   "source": [
    "## Dealing with dates"
   ]
  },
  {
   "cell_type": "markdown",
   "id": "21eecbc7",
   "metadata": {},
   "source": [
    "All dates begin with \"01-01\":"
   ]
  },
  {
   "cell_type": "code",
   "execution_count": 11,
   "id": "c9320f6b",
   "metadata": {},
   "outputs": [
    {
     "data": {
      "text/plain": [
       "0"
      ]
     },
     "execution_count": 11,
     "metadata": {},
     "output_type": "execute_result"
    }
   ],
   "source": [
    "int(df[\"date\"].apply(lambda x: not str(x).startswith(\"01-01\")).sum())"
   ]
  },
  {
   "cell_type": "markdown",
   "id": "9af4f9b2",
   "metadata": {},
   "source": [
    "So it may be removed and the date column may be turned into an year column of integer type:"
   ]
  },
  {
   "cell_type": "code",
   "execution_count": 12,
   "id": "7f256e6f",
   "metadata": {},
   "outputs": [
    {
     "data": {
      "text/html": [
       "<div>\n",
       "<style scoped>\n",
       "    .dataframe tbody tr th:only-of-type {\n",
       "        vertical-align: middle;\n",
       "    }\n",
       "\n",
       "    .dataframe tbody tr th {\n",
       "        vertical-align: top;\n",
       "    }\n",
       "\n",
       "    .dataframe thead th {\n",
       "        text-align: right;\n",
       "    }\n",
       "</style>\n",
       "<table border=\"1\" class=\"dataframe\">\n",
       "  <thead>\n",
       "    <tr style=\"text-align: right;\">\n",
       "      <th></th>\n",
       "      <th>country</th>\n",
       "      <th>region</th>\n",
       "      <th>year</th>\n",
       "      <th>kilotons</th>\n",
       "      <th>mtpc</th>\n",
       "    </tr>\n",
       "  </thead>\n",
       "  <tbody>\n",
       "    <tr>\n",
       "      <th>0</th>\n",
       "      <td>Afghanistan</td>\n",
       "      <td>Asia</td>\n",
       "      <td>2011</td>\n",
       "      <td>8930.0</td>\n",
       "      <td>0.31</td>\n",
       "    </tr>\n",
       "    <tr>\n",
       "      <th>1</th>\n",
       "      <td>Afghanistan</td>\n",
       "      <td>Asia</td>\n",
       "      <td>2012</td>\n",
       "      <td>8080.0</td>\n",
       "      <td>0.27</td>\n",
       "    </tr>\n",
       "    <tr>\n",
       "      <th>2</th>\n",
       "      <td>None</td>\n",
       "      <td>Asia</td>\n",
       "      <td>2010</td>\n",
       "      <td>7110.0</td>\n",
       "      <td>0.25</td>\n",
       "    </tr>\n",
       "    <tr>\n",
       "      <th>3</th>\n",
       "      <td>None</td>\n",
       "      <td>Asia</td>\n",
       "      <td>2019</td>\n",
       "      <td>6080.0</td>\n",
       "      <td>0.16</td>\n",
       "    </tr>\n",
       "    <tr>\n",
       "      <th>4</th>\n",
       "      <td>None</td>\n",
       "      <td>Asia</td>\n",
       "      <td>2018</td>\n",
       "      <td>6070.0</td>\n",
       "      <td>0.17</td>\n",
       "    </tr>\n",
       "    <tr>\n",
       "      <th>...</th>\n",
       "      <td>...</td>\n",
       "      <td>...</td>\n",
       "      <td>...</td>\n",
       "      <td>...</td>\n",
       "      <td>...</td>\n",
       "    </tr>\n",
       "    <tr>\n",
       "      <th>5672</th>\n",
       "      <td>Zimbabwe</td>\n",
       "      <td>Africa</td>\n",
       "      <td>2004</td>\n",
       "      <td>9770.0</td>\n",
       "      <td>0.80</td>\n",
       "    </tr>\n",
       "    <tr>\n",
       "      <th>5673</th>\n",
       "      <td>Zimbabwe</td>\n",
       "      <td>Africa</td>\n",
       "      <td>2007</td>\n",
       "      <td>9760.0</td>\n",
       "      <td>0.78</td>\n",
       "    </tr>\n",
       "    <tr>\n",
       "      <th>5674</th>\n",
       "      <td>Zimbabwe</td>\n",
       "      <td>Africa</td>\n",
       "      <td>2010</td>\n",
       "      <td>9600.0</td>\n",
       "      <td>0.75</td>\n",
       "    </tr>\n",
       "    <tr>\n",
       "      <th>5675</th>\n",
       "      <td>Zimbabwe</td>\n",
       "      <td>Africa</td>\n",
       "      <td>2009</td>\n",
       "      <td>7750.0</td>\n",
       "      <td>0.61</td>\n",
       "    </tr>\n",
       "    <tr>\n",
       "      <th>5676</th>\n",
       "      <td>Zimbabwe</td>\n",
       "      <td>Africa</td>\n",
       "      <td>2008</td>\n",
       "      <td>NaN</td>\n",
       "      <td>0.61</td>\n",
       "    </tr>\n",
       "  </tbody>\n",
       "</table>\n",
       "<p>5677 rows × 5 columns</p>\n",
       "</div>"
      ],
      "text/plain": [
       "          country  region  year  kilotons  mtpc\n",
       "0     Afghanistan    Asia  2011    8930.0  0.31\n",
       "1     Afghanistan    Asia  2012    8080.0  0.27\n",
       "2            None    Asia  2010    7110.0  0.25\n",
       "3            None    Asia  2019    6080.0  0.16\n",
       "4            None    Asia  2018    6070.0  0.17\n",
       "...           ...     ...   ...       ...   ...\n",
       "5672     Zimbabwe  Africa  2004    9770.0  0.80\n",
       "5673     Zimbabwe  Africa  2007    9760.0  0.78\n",
       "5674     Zimbabwe  Africa  2010    9600.0  0.75\n",
       "5675     Zimbabwe  Africa  2009    7750.0  0.61\n",
       "5676     Zimbabwe  Africa  2008       NaN  0.61\n",
       "\n",
       "[5677 rows x 5 columns]"
      ]
     },
     "execution_count": 12,
     "metadata": {},
     "output_type": "execute_result"
    }
   ],
   "source": [
    "def remove_0101(obj):\n",
    "    return obj.removeprefix(\"01-01-\") if isinstance(obj, str) else obj\n",
    "\n",
    "\n",
    "df[\"date\"] = df[\"date\"].apply(remove_0101).astype(int)\n",
    "df = df.rename(columns={\"date\": \"year\"})\n",
    "df"
   ]
  },
  {
   "cell_type": "markdown",
   "id": "e113067a",
   "metadata": {},
   "source": [
    "Now checking values to search for typos:"
   ]
  },
  {
   "cell_type": "code",
   "execution_count": 13,
   "id": "0bad5b4e",
   "metadata": {},
   "outputs": [
    {
     "data": {
      "text/html": [
       "<div>\n",
       "<style scoped>\n",
       "    .dataframe tbody tr th:only-of-type {\n",
       "        vertical-align: middle;\n",
       "    }\n",
       "\n",
       "    .dataframe tbody tr th {\n",
       "        vertical-align: top;\n",
       "    }\n",
       "\n",
       "    .dataframe thead th {\n",
       "        text-align: right;\n",
       "    }\n",
       "</style>\n",
       "<table border=\"1\" class=\"dataframe\">\n",
       "  <thead>\n",
       "    <tr style=\"text-align: right;\">\n",
       "      <th>year</th>\n",
       "      <th>2012</th>\n",
       "      <th>2019</th>\n",
       "      <th>2013</th>\n",
       "      <th>2018</th>\n",
       "      <th>2015</th>\n",
       "      <th>2016</th>\n",
       "      <th>2017</th>\n",
       "      <th>2014</th>\n",
       "      <th>2007</th>\n",
       "      <th>2006</th>\n",
       "      <th>...</th>\n",
       "      <th>24</th>\n",
       "      <th>21</th>\n",
       "      <th>9</th>\n",
       "      <th>200</th>\n",
       "      <th>2030</th>\n",
       "      <th>20100</th>\n",
       "      <th>0</th>\n",
       "      <th>1400</th>\n",
       "      <th>1427</th>\n",
       "      <th>1750</th>\n",
       "    </tr>\n",
       "  </thead>\n",
       "  <tbody>\n",
       "    <tr>\n",
       "      <th>count</th>\n",
       "      <td>190</td>\n",
       "      <td>190</td>\n",
       "      <td>190</td>\n",
       "      <td>190</td>\n",
       "      <td>190</td>\n",
       "      <td>190</td>\n",
       "      <td>190</td>\n",
       "      <td>190</td>\n",
       "      <td>190</td>\n",
       "      <td>190</td>\n",
       "      <td>...</td>\n",
       "      <td>1</td>\n",
       "      <td>1</td>\n",
       "      <td>1</td>\n",
       "      <td>1</td>\n",
       "      <td>1</td>\n",
       "      <td>1</td>\n",
       "      <td>1</td>\n",
       "      <td>1</td>\n",
       "      <td>1</td>\n",
       "      <td>1</td>\n",
       "    </tr>\n",
       "  </tbody>\n",
       "</table>\n",
       "<p>1 rows × 48 columns</p>\n",
       "</div>"
      ],
      "text/plain": [
       "year   2012   2019   2013   2018   2015   2016   2017   2014   2007   2006   \\\n",
       "count    190    190    190    190    190    190    190    190    190    190   \n",
       "\n",
       "year   ...  24     21     9      200    2030   20100  0      1400   1427   \\\n",
       "count  ...      1      1      1      1      1      1      1      1      1   \n",
       "\n",
       "year   1750   \n",
       "count      1  \n",
       "\n",
       "[1 rows x 48 columns]"
      ]
     },
     "execution_count": 13,
     "metadata": {},
     "output_type": "execute_result"
    }
   ],
   "source": [
    "date_values = df[\"year\"].value_counts().to_frame()\n",
    "date_values.T"
   ]
  },
  {
   "cell_type": "markdown",
   "id": "2b3f5517",
   "metadata": {},
   "source": [
    "We can see that absurd values happen only one time:"
   ]
  },
  {
   "cell_type": "code",
   "execution_count": 14,
   "id": "03c3a680",
   "metadata": {},
   "outputs": [
    {
     "data": {
      "text/html": [
       "<div>\n",
       "<style scoped>\n",
       "    .dataframe tbody tr th:only-of-type {\n",
       "        vertical-align: middle;\n",
       "    }\n",
       "\n",
       "    .dataframe tbody tr th {\n",
       "        vertical-align: top;\n",
       "    }\n",
       "\n",
       "    .dataframe thead th {\n",
       "        text-align: right;\n",
       "    }\n",
       "</style>\n",
       "<table border=\"1\" class=\"dataframe\">\n",
       "  <thead>\n",
       "    <tr style=\"text-align: right;\">\n",
       "      <th>year</th>\n",
       "      <th>2050</th>\n",
       "      <th>1600</th>\n",
       "      <th>2100</th>\n",
       "      <th>1500</th>\n",
       "      <th>1817</th>\n",
       "      <th>1000</th>\n",
       "      <th>201</th>\n",
       "      <th>205</th>\n",
       "      <th>24</th>\n",
       "      <th>21</th>\n",
       "      <th>9</th>\n",
       "      <th>200</th>\n",
       "      <th>2030</th>\n",
       "      <th>20100</th>\n",
       "      <th>0</th>\n",
       "      <th>1400</th>\n",
       "      <th>1427</th>\n",
       "      <th>1750</th>\n",
       "    </tr>\n",
       "  </thead>\n",
       "  <tbody>\n",
       "    <tr>\n",
       "      <th>count</th>\n",
       "      <td>1</td>\n",
       "      <td>1</td>\n",
       "      <td>1</td>\n",
       "      <td>1</td>\n",
       "      <td>1</td>\n",
       "      <td>1</td>\n",
       "      <td>1</td>\n",
       "      <td>1</td>\n",
       "      <td>1</td>\n",
       "      <td>1</td>\n",
       "      <td>1</td>\n",
       "      <td>1</td>\n",
       "      <td>1</td>\n",
       "      <td>1</td>\n",
       "      <td>1</td>\n",
       "      <td>1</td>\n",
       "      <td>1</td>\n",
       "      <td>1</td>\n",
       "    </tr>\n",
       "  </tbody>\n",
       "</table>\n",
       "</div>"
      ],
      "text/plain": [
       "year   2050   1600   2100   1500   1817   1000   201    205    24     21     \\\n",
       "count      1      1      1      1      1      1      1      1      1      1   \n",
       "\n",
       "year   9      200    2030   20100  0      1400   1427   1750   \n",
       "count      1      1      1      1      1      1      1      1  "
      ]
     },
     "execution_count": 14,
     "metadata": {},
     "output_type": "execute_result"
    }
   ],
   "source": [
    "wrong_dates = date_values.query(\"count == 1\")\n",
    "wrong_dates.T"
   ]
  },
  {
   "cell_type": "markdown",
   "id": "dbaa6de0",
   "metadata": {},
   "source": [
    "Since there is no way to discover the kind of mistake produced these values, the rows will be dropped:"
   ]
  },
  {
   "cell_type": "code",
   "execution_count": 15,
   "id": "a3e2feb7",
   "metadata": {},
   "outputs": [
    {
     "data": {
      "text/html": [
       "<div>\n",
       "<style scoped>\n",
       "    .dataframe tbody tr th:only-of-type {\n",
       "        vertical-align: middle;\n",
       "    }\n",
       "\n",
       "    .dataframe tbody tr th {\n",
       "        vertical-align: top;\n",
       "    }\n",
       "\n",
       "    .dataframe thead th {\n",
       "        text-align: right;\n",
       "    }\n",
       "</style>\n",
       "<table border=\"1\" class=\"dataframe\">\n",
       "  <thead>\n",
       "    <tr style=\"text-align: right;\">\n",
       "      <th></th>\n",
       "      <th>country</th>\n",
       "      <th>region</th>\n",
       "      <th>year</th>\n",
       "      <th>kilotons</th>\n",
       "      <th>mtpc</th>\n",
       "    </tr>\n",
       "  </thead>\n",
       "  <tbody>\n",
       "    <tr>\n",
       "      <th>0</th>\n",
       "      <td>Afghanistan</td>\n",
       "      <td>Asia</td>\n",
       "      <td>2011</td>\n",
       "      <td>8930.0</td>\n",
       "      <td>0.31</td>\n",
       "    </tr>\n",
       "    <tr>\n",
       "      <th>1</th>\n",
       "      <td>Afghanistan</td>\n",
       "      <td>Asia</td>\n",
       "      <td>2012</td>\n",
       "      <td>8080.0</td>\n",
       "      <td>0.27</td>\n",
       "    </tr>\n",
       "    <tr>\n",
       "      <th>2</th>\n",
       "      <td>None</td>\n",
       "      <td>Asia</td>\n",
       "      <td>2010</td>\n",
       "      <td>7110.0</td>\n",
       "      <td>0.25</td>\n",
       "    </tr>\n",
       "    <tr>\n",
       "      <th>3</th>\n",
       "      <td>None</td>\n",
       "      <td>Asia</td>\n",
       "      <td>2019</td>\n",
       "      <td>6080.0</td>\n",
       "      <td>0.16</td>\n",
       "    </tr>\n",
       "    <tr>\n",
       "      <th>4</th>\n",
       "      <td>None</td>\n",
       "      <td>Asia</td>\n",
       "      <td>2018</td>\n",
       "      <td>6070.0</td>\n",
       "      <td>0.17</td>\n",
       "    </tr>\n",
       "    <tr>\n",
       "      <th>...</th>\n",
       "      <td>...</td>\n",
       "      <td>...</td>\n",
       "      <td>...</td>\n",
       "      <td>...</td>\n",
       "      <td>...</td>\n",
       "    </tr>\n",
       "    <tr>\n",
       "      <th>5672</th>\n",
       "      <td>Zimbabwe</td>\n",
       "      <td>Africa</td>\n",
       "      <td>2004</td>\n",
       "      <td>9770.0</td>\n",
       "      <td>0.80</td>\n",
       "    </tr>\n",
       "    <tr>\n",
       "      <th>5673</th>\n",
       "      <td>Zimbabwe</td>\n",
       "      <td>Africa</td>\n",
       "      <td>2007</td>\n",
       "      <td>9760.0</td>\n",
       "      <td>0.78</td>\n",
       "    </tr>\n",
       "    <tr>\n",
       "      <th>5674</th>\n",
       "      <td>Zimbabwe</td>\n",
       "      <td>Africa</td>\n",
       "      <td>2010</td>\n",
       "      <td>9600.0</td>\n",
       "      <td>0.75</td>\n",
       "    </tr>\n",
       "    <tr>\n",
       "      <th>5675</th>\n",
       "      <td>Zimbabwe</td>\n",
       "      <td>Africa</td>\n",
       "      <td>2009</td>\n",
       "      <td>7750.0</td>\n",
       "      <td>0.61</td>\n",
       "    </tr>\n",
       "    <tr>\n",
       "      <th>5676</th>\n",
       "      <td>Zimbabwe</td>\n",
       "      <td>Africa</td>\n",
       "      <td>2008</td>\n",
       "      <td>NaN</td>\n",
       "      <td>0.61</td>\n",
       "    </tr>\n",
       "  </tbody>\n",
       "</table>\n",
       "<p>5659 rows × 5 columns</p>\n",
       "</div>"
      ],
      "text/plain": [
       "          country  region  year  kilotons  mtpc\n",
       "0     Afghanistan    Asia  2011    8930.0  0.31\n",
       "1     Afghanistan    Asia  2012    8080.0  0.27\n",
       "2            None    Asia  2010    7110.0  0.25\n",
       "3            None    Asia  2019    6080.0  0.16\n",
       "4            None    Asia  2018    6070.0  0.17\n",
       "...           ...     ...   ...       ...   ...\n",
       "5672     Zimbabwe  Africa  2004    9770.0  0.80\n",
       "5673     Zimbabwe  Africa  2007    9760.0  0.78\n",
       "5674     Zimbabwe  Africa  2010    9600.0  0.75\n",
       "5675     Zimbabwe  Africa  2009    7750.0  0.61\n",
       "5676     Zimbabwe  Africa  2008       NaN  0.61\n",
       "\n",
       "[5659 rows x 5 columns]"
      ]
     },
     "execution_count": 15,
     "metadata": {},
     "output_type": "execute_result"
    }
   ],
   "source": [
    "df = df.drop(df[df[\"year\"].apply(lambda x: x in wrong_dates.index)].index)\n",
    "df"
   ]
  },
  {
   "cell_type": "markdown",
   "id": "719c98f1",
   "metadata": {},
   "source": [
    "Checking if absurd values are gone:"
   ]
  },
  {
   "cell_type": "code",
   "execution_count": 16,
   "id": "cfc141ca",
   "metadata": {},
   "outputs": [
    {
     "data": {
      "text/html": [
       "<div>\n",
       "<style scoped>\n",
       "    .dataframe tbody tr th:only-of-type {\n",
       "        vertical-align: middle;\n",
       "    }\n",
       "\n",
       "    .dataframe tbody tr th {\n",
       "        vertical-align: top;\n",
       "    }\n",
       "\n",
       "    .dataframe thead th {\n",
       "        text-align: right;\n",
       "    }\n",
       "</style>\n",
       "<table border=\"1\" class=\"dataframe\">\n",
       "  <thead>\n",
       "    <tr style=\"text-align: right;\">\n",
       "      <th>year</th>\n",
       "      <th>2012</th>\n",
       "      <th>2019</th>\n",
       "      <th>2013</th>\n",
       "      <th>2018</th>\n",
       "      <th>2016</th>\n",
       "      <th>2015</th>\n",
       "      <th>2014</th>\n",
       "      <th>2017</th>\n",
       "      <th>2006</th>\n",
       "      <th>2007</th>\n",
       "      <th>...</th>\n",
       "      <th>2010</th>\n",
       "      <th>2005</th>\n",
       "      <th>2004</th>\n",
       "      <th>1999</th>\n",
       "      <th>1998</th>\n",
       "      <th>1996</th>\n",
       "      <th>2000</th>\n",
       "      <th>2001</th>\n",
       "      <th>1991</th>\n",
       "      <th>1990</th>\n",
       "    </tr>\n",
       "  </thead>\n",
       "  <tbody>\n",
       "    <tr>\n",
       "      <th>count</th>\n",
       "      <td>190</td>\n",
       "      <td>190</td>\n",
       "      <td>190</td>\n",
       "      <td>190</td>\n",
       "      <td>190</td>\n",
       "      <td>190</td>\n",
       "      <td>190</td>\n",
       "      <td>190</td>\n",
       "      <td>190</td>\n",
       "      <td>190</td>\n",
       "      <td>...</td>\n",
       "      <td>188</td>\n",
       "      <td>188</td>\n",
       "      <td>188</td>\n",
       "      <td>188</td>\n",
       "      <td>188</td>\n",
       "      <td>188</td>\n",
       "      <td>188</td>\n",
       "      <td>187</td>\n",
       "      <td>185</td>\n",
       "      <td>183</td>\n",
       "    </tr>\n",
       "  </tbody>\n",
       "</table>\n",
       "<p>1 rows × 30 columns</p>\n",
       "</div>"
      ],
      "text/plain": [
       "year   2012  2019  2013  2018  2016  2015  2014  2017  2006  2007  ...  2010  \\\n",
       "count   190   190   190   190   190   190   190   190   190   190  ...   188   \n",
       "\n",
       "year   2005  2004  1999  1998  1996  2000  2001  1991  1990  \n",
       "count   188   188   188   188   188   188   187   185   183  \n",
       "\n",
       "[1 rows x 30 columns]"
      ]
     },
     "execution_count": 16,
     "metadata": {},
     "output_type": "execute_result"
    }
   ],
   "source": [
    "df[\"year\"].value_counts().to_frame().T"
   ]
  },
  {
   "cell_type": "markdown",
   "id": "a08ccc57",
   "metadata": {},
   "source": [
    "Checking start year and final year of the series:"
   ]
  },
  {
   "cell_type": "code",
   "execution_count": 17,
   "id": "d64afb07",
   "metadata": {},
   "outputs": [
    {
     "data": {
      "text/plain": [
       "(1990, 2019)"
      ]
     },
     "execution_count": 17,
     "metadata": {},
     "output_type": "execute_result"
    }
   ],
   "source": [
    "int(df[\"year\"].min()), int(df[\"year\"].max())"
   ]
  },
  {
   "cell_type": "markdown",
   "id": "45865fb8",
   "metadata": {},
   "source": [
    "## Dealing with countries"
   ]
  },
  {
   "cell_type": "markdown",
   "id": "61683641",
   "metadata": {},
   "source": [
    "Visualizing nulls:"
   ]
  },
  {
   "cell_type": "code",
   "execution_count": 18,
   "id": "c1bed04f",
   "metadata": {},
   "outputs": [
    {
     "data": {
      "text/html": [
       "<div>\n",
       "<style scoped>\n",
       "    .dataframe tbody tr th:only-of-type {\n",
       "        vertical-align: middle;\n",
       "    }\n",
       "\n",
       "    .dataframe tbody tr th {\n",
       "        vertical-align: top;\n",
       "    }\n",
       "\n",
       "    .dataframe thead th {\n",
       "        text-align: right;\n",
       "    }\n",
       "</style>\n",
       "<table border=\"1\" class=\"dataframe\">\n",
       "  <thead>\n",
       "    <tr style=\"text-align: right;\">\n",
       "      <th></th>\n",
       "      <th>country</th>\n",
       "      <th>region</th>\n",
       "      <th>year</th>\n",
       "      <th>kilotons</th>\n",
       "      <th>mtpc</th>\n",
       "    </tr>\n",
       "  </thead>\n",
       "  <tbody>\n",
       "    <tr>\n",
       "      <th>2</th>\n",
       "      <td>None</td>\n",
       "      <td>Asia</td>\n",
       "      <td>2010</td>\n",
       "      <td>7110.0</td>\n",
       "      <td>0.25</td>\n",
       "    </tr>\n",
       "    <tr>\n",
       "      <th>3</th>\n",
       "      <td>None</td>\n",
       "      <td>Asia</td>\n",
       "      <td>2019</td>\n",
       "      <td>6080.0</td>\n",
       "      <td>0.16</td>\n",
       "    </tr>\n",
       "    <tr>\n",
       "      <th>4</th>\n",
       "      <td>None</td>\n",
       "      <td>Asia</td>\n",
       "      <td>2018</td>\n",
       "      <td>6070.0</td>\n",
       "      <td>0.17</td>\n",
       "    </tr>\n",
       "    <tr>\n",
       "      <th>5</th>\n",
       "      <td>None</td>\n",
       "      <td>Asia</td>\n",
       "      <td>2013</td>\n",
       "      <td>5990.0</td>\n",
       "      <td>0.19</td>\n",
       "    </tr>\n",
       "    <tr>\n",
       "      <th>6</th>\n",
       "      <td>None</td>\n",
       "      <td>Asia</td>\n",
       "      <td>2015</td>\n",
       "      <td>5950.0</td>\n",
       "      <td>0.18</td>\n",
       "    </tr>\n",
       "    <tr>\n",
       "      <th>...</th>\n",
       "      <td>...</td>\n",
       "      <td>...</td>\n",
       "      <td>...</td>\n",
       "      <td>...</td>\n",
       "      <td>...</td>\n",
       "    </tr>\n",
       "    <tr>\n",
       "      <th>1948</th>\n",
       "      <td>None</td>\n",
       "      <td>Americas</td>\n",
       "      <td>2009</td>\n",
       "      <td>810.0</td>\n",
       "      <td>7.15</td>\n",
       "    </tr>\n",
       "    <tr>\n",
       "      <th>1949</th>\n",
       "      <td>None</td>\n",
       "      <td>Americas</td>\n",
       "      <td>2012</td>\n",
       "      <td>410.0</td>\n",
       "      <td>3.54</td>\n",
       "    </tr>\n",
       "    <tr>\n",
       "      <th>1950</th>\n",
       "      <td>None</td>\n",
       "      <td>Americas</td>\n",
       "      <td>2019</td>\n",
       "      <td>330.0</td>\n",
       "      <td>2.69</td>\n",
       "    </tr>\n",
       "    <tr>\n",
       "      <th>1951</th>\n",
       "      <td>None</td>\n",
       "      <td>Americas</td>\n",
       "      <td>2018</td>\n",
       "      <td>320.0</td>\n",
       "      <td>2.63</td>\n",
       "    </tr>\n",
       "    <tr>\n",
       "      <th>1952</th>\n",
       "      <td>None</td>\n",
       "      <td>Americas</td>\n",
       "      <td>2013</td>\n",
       "      <td>320.0</td>\n",
       "      <td>2.74</td>\n",
       "    </tr>\n",
       "  </tbody>\n",
       "</table>\n",
       "<p>78 rows × 5 columns</p>\n",
       "</div>"
      ],
      "text/plain": [
       "     country    region  year  kilotons  mtpc\n",
       "2       None      Asia  2010    7110.0  0.25\n",
       "3       None      Asia  2019    6080.0  0.16\n",
       "4       None      Asia  2018    6070.0  0.17\n",
       "5       None      Asia  2013    5990.0  0.19\n",
       "6       None      Asia  2015    5950.0  0.18\n",
       "...      ...       ...   ...       ...   ...\n",
       "1948    None  Americas  2009     810.0  7.15\n",
       "1949    None  Americas  2012     410.0  3.54\n",
       "1950    None  Americas  2019     330.0  2.69\n",
       "1951    None  Americas  2018     320.0  2.63\n",
       "1952    None  Americas  2013     320.0  2.74\n",
       "\n",
       "[78 rows x 5 columns]"
      ]
     },
     "execution_count": 18,
     "metadata": {},
     "output_type": "execute_result"
    }
   ],
   "source": [
    "df[df[\"country\"].isna()]"
   ]
  },
  {
   "cell_type": "markdown",
   "id": "c7384056",
   "metadata": {},
   "source": [
    "Percentage of nulls:"
   ]
  },
  {
   "cell_type": "code",
   "execution_count": 19,
   "id": "eed79d8f",
   "metadata": {},
   "outputs": [
    {
     "data": {
      "text/plain": [
       "'1.38%'"
      ]
     },
     "execution_count": 19,
     "metadata": {},
     "output_type": "execute_result"
    }
   ],
   "source": [
    "f\"{(df[df[\"country\"].isna()].shape[0] / df.shape[0]):.2%}\""
   ]
  },
  {
   "cell_type": "markdown",
   "id": "a19d48c0",
   "metadata": {},
   "source": [
    "These rows will be dropped, considering that:\n",
    "1. the number of rows without country represents only 1.37% of the dataset; and\n",
    "2. the lack of information about the country may indicate records with low reliability, since traceability is compromised."
   ]
  },
  {
   "cell_type": "code",
   "execution_count": 20,
   "id": "65bf8b11",
   "metadata": {},
   "outputs": [
    {
     "data": {
      "text/html": [
       "<div>\n",
       "<style scoped>\n",
       "    .dataframe tbody tr th:only-of-type {\n",
       "        vertical-align: middle;\n",
       "    }\n",
       "\n",
       "    .dataframe tbody tr th {\n",
       "        vertical-align: top;\n",
       "    }\n",
       "\n",
       "    .dataframe thead th {\n",
       "        text-align: right;\n",
       "    }\n",
       "</style>\n",
       "<table border=\"1\" class=\"dataframe\">\n",
       "  <thead>\n",
       "    <tr style=\"text-align: right;\">\n",
       "      <th></th>\n",
       "      <th>country</th>\n",
       "      <th>region</th>\n",
       "      <th>year</th>\n",
       "      <th>kilotons</th>\n",
       "      <th>mtpc</th>\n",
       "    </tr>\n",
       "  </thead>\n",
       "  <tbody>\n",
       "  </tbody>\n",
       "</table>\n",
       "</div>"
      ],
      "text/plain": [
       "Empty DataFrame\n",
       "Columns: [country, region, year, kilotons, mtpc]\n",
       "Index: []"
      ]
     },
     "execution_count": 20,
     "metadata": {},
     "output_type": "execute_result"
    }
   ],
   "source": [
    "df = df.dropna(subset=\"country\")\n",
    "df[df[\"country\"].isna()]"
   ]
  },
  {
   "cell_type": "markdown",
   "id": "1fd0a3b9",
   "metadata": {},
   "source": [
    "## Dealing with kilotons of Co2"
   ]
  },
  {
   "cell_type": "markdown",
   "id": "e78a4548",
   "metadata": {},
   "source": [
    "Visualizing nulls:"
   ]
  },
  {
   "cell_type": "code",
   "execution_count": 21,
   "id": "1979162e",
   "metadata": {},
   "outputs": [
    {
     "data": {
      "text/html": [
       "<div>\n",
       "<style scoped>\n",
       "    .dataframe tbody tr th:only-of-type {\n",
       "        vertical-align: middle;\n",
       "    }\n",
       "\n",
       "    .dataframe tbody tr th {\n",
       "        vertical-align: top;\n",
       "    }\n",
       "\n",
       "    .dataframe thead th {\n",
       "        text-align: right;\n",
       "    }\n",
       "</style>\n",
       "<table border=\"1\" class=\"dataframe\">\n",
       "  <thead>\n",
       "    <tr style=\"text-align: right;\">\n",
       "      <th></th>\n",
       "      <th>country</th>\n",
       "      <th>region</th>\n",
       "      <th>year</th>\n",
       "      <th>kilotons</th>\n",
       "      <th>mtpc</th>\n",
       "    </tr>\n",
       "  </thead>\n",
       "  <tbody>\n",
       "    <tr>\n",
       "      <th>107</th>\n",
       "      <td>Andorra</td>\n",
       "      <td>Europa</td>\n",
       "      <td>2013</td>\n",
       "      <td>NaN</td>\n",
       "      <td>6.73</td>\n",
       "    </tr>\n",
       "    <tr>\n",
       "      <th>108</th>\n",
       "      <td>Andorra</td>\n",
       "      <td>Europa</td>\n",
       "      <td>2017</td>\n",
       "      <td>NaN</td>\n",
       "      <td>6.37</td>\n",
       "    </tr>\n",
       "    <tr>\n",
       "      <th>109</th>\n",
       "      <td>Andorra</td>\n",
       "      <td>Europa</td>\n",
       "      <td>2016</td>\n",
       "      <td>NaN</td>\n",
       "      <td>6.48</td>\n",
       "    </tr>\n",
       "    <tr>\n",
       "      <th>110</th>\n",
       "      <td>Andorra</td>\n",
       "      <td>Europa</td>\n",
       "      <td>2015</td>\n",
       "      <td>NaN</td>\n",
       "      <td>6.55</td>\n",
       "    </tr>\n",
       "    <tr>\n",
       "      <th>111</th>\n",
       "      <td>Andorra</td>\n",
       "      <td>Europa</td>\n",
       "      <td>1997</td>\n",
       "      <td>NaN</td>\n",
       "      <td>7.27</td>\n",
       "    </tr>\n",
       "    <tr>\n",
       "      <th>...</th>\n",
       "      <td>...</td>\n",
       "      <td>...</td>\n",
       "      <td>...</td>\n",
       "      <td>...</td>\n",
       "      <td>...</td>\n",
       "    </tr>\n",
       "    <tr>\n",
       "      <th>1505</th>\n",
       "      <td>El Salvador</td>\n",
       "      <td>Americas</td>\n",
       "      <td>2008</td>\n",
       "      <td>NaN</td>\n",
       "      <td>1.14</td>\n",
       "    </tr>\n",
       "    <tr>\n",
       "      <th>1506</th>\n",
       "      <td>El Salvador</td>\n",
       "      <td>Americas</td>\n",
       "      <td>2005</td>\n",
       "      <td>NaN</td>\n",
       "      <td>1.13</td>\n",
       "    </tr>\n",
       "    <tr>\n",
       "      <th>1507</th>\n",
       "      <td>El Salvador</td>\n",
       "      <td>Americas</td>\n",
       "      <td>2018</td>\n",
       "      <td>NaN</td>\n",
       "      <td>1.09</td>\n",
       "    </tr>\n",
       "    <tr>\n",
       "      <th>1508</th>\n",
       "      <td>El Salvador</td>\n",
       "      <td>Americas</td>\n",
       "      <td>2011</td>\n",
       "      <td>NaN</td>\n",
       "      <td>1.10</td>\n",
       "    </tr>\n",
       "    <tr>\n",
       "      <th>5676</th>\n",
       "      <td>Zimbabwe</td>\n",
       "      <td>Africa</td>\n",
       "      <td>2008</td>\n",
       "      <td>NaN</td>\n",
       "      <td>0.61</td>\n",
       "    </tr>\n",
       "  </tbody>\n",
       "</table>\n",
       "<p>101 rows × 5 columns</p>\n",
       "</div>"
      ],
      "text/plain": [
       "          country    region  year  kilotons  mtpc\n",
       "107       Andorra    Europa  2013       NaN  6.73\n",
       "108       Andorra    Europa  2017       NaN  6.37\n",
       "109       Andorra    Europa  2016       NaN  6.48\n",
       "110       Andorra    Europa  2015       NaN  6.55\n",
       "111       Andorra    Europa  1997       NaN  7.27\n",
       "...           ...       ...   ...       ...   ...\n",
       "1505  El Salvador  Americas  2008       NaN  1.14\n",
       "1506  El Salvador  Americas  2005       NaN  1.13\n",
       "1507  El Salvador  Americas  2018       NaN  1.09\n",
       "1508  El Salvador  Americas  2011       NaN  1.10\n",
       "5676     Zimbabwe    Africa  2008       NaN  0.61\n",
       "\n",
       "[101 rows x 5 columns]"
      ]
     },
     "execution_count": 21,
     "metadata": {},
     "output_type": "execute_result"
    }
   ],
   "source": [
    "df[df[\"kilotons\"].isna()]"
   ]
  },
  {
   "cell_type": "markdown",
   "id": "edae024b",
   "metadata": {},
   "source": [
    "Since we are dealing with multiple time series, we may backward-fill for the year-sorted subdataset of each country, and forward-fill when the last value is null."
   ]
  },
  {
   "cell_type": "code",
   "execution_count": 22,
   "id": "0577f735",
   "metadata": {},
   "outputs": [
    {
     "data": {
      "text/html": [
       "<div>\n",
       "<style scoped>\n",
       "    .dataframe tbody tr th:only-of-type {\n",
       "        vertical-align: middle;\n",
       "    }\n",
       "\n",
       "    .dataframe tbody tr th {\n",
       "        vertical-align: top;\n",
       "    }\n",
       "\n",
       "    .dataframe thead th {\n",
       "        text-align: right;\n",
       "    }\n",
       "</style>\n",
       "<table border=\"1\" class=\"dataframe\">\n",
       "  <thead>\n",
       "    <tr style=\"text-align: right;\">\n",
       "      <th></th>\n",
       "      <th>index</th>\n",
       "      <th>country</th>\n",
       "      <th>region</th>\n",
       "      <th>year</th>\n",
       "      <th>kilotons</th>\n",
       "      <th>mtpc</th>\n",
       "    </tr>\n",
       "  </thead>\n",
       "  <tbody>\n",
       "    <tr>\n",
       "      <th>0</th>\n",
       "      <td>12</td>\n",
       "      <td>Afghanistan</td>\n",
       "      <td>Asia</td>\n",
       "      <td>1990</td>\n",
       "      <td>2380.0</td>\n",
       "      <td>0.22</td>\n",
       "    </tr>\n",
       "    <tr>\n",
       "      <th>1</th>\n",
       "      <td>13</td>\n",
       "      <td>Afghanistan</td>\n",
       "      <td>Asia</td>\n",
       "      <td>1991</td>\n",
       "      <td>2230.0</td>\n",
       "      <td>0.21</td>\n",
       "    </tr>\n",
       "    <tr>\n",
       "      <th>2</th>\n",
       "      <td>17</td>\n",
       "      <td>Afghanistan</td>\n",
       "      <td>Asia</td>\n",
       "      <td>1992</td>\n",
       "      <td>1390.0</td>\n",
       "      <td>0.12</td>\n",
       "    </tr>\n",
       "    <tr>\n",
       "      <th>3</th>\n",
       "      <td>18</td>\n",
       "      <td>Afghanistan</td>\n",
       "      <td>Asia</td>\n",
       "      <td>1993</td>\n",
       "      <td>1340.0</td>\n",
       "      <td>0.10</td>\n",
       "    </tr>\n",
       "    <tr>\n",
       "      <th>4</th>\n",
       "      <td>19</td>\n",
       "      <td>Afghanistan</td>\n",
       "      <td>Asia</td>\n",
       "      <td>1994</td>\n",
       "      <td>1290.0</td>\n",
       "      <td>0.08</td>\n",
       "    </tr>\n",
       "    <tr>\n",
       "      <th>...</th>\n",
       "      <td>...</td>\n",
       "      <td>...</td>\n",
       "      <td>...</td>\n",
       "      <td>...</td>\n",
       "      <td>...</td>\n",
       "      <td>...</td>\n",
       "    </tr>\n",
       "    <tr>\n",
       "      <th>5576</th>\n",
       "      <td>5660</td>\n",
       "      <td>Zimbabwe</td>\n",
       "      <td>Africa</td>\n",
       "      <td>2015</td>\n",
       "      <td>12430.0</td>\n",
       "      <td>0.88</td>\n",
       "    </tr>\n",
       "    <tr>\n",
       "      <th>5577</th>\n",
       "      <td>5667</td>\n",
       "      <td>Zimbabwe</td>\n",
       "      <td>Africa</td>\n",
       "      <td>2016</td>\n",
       "      <td>11020.0</td>\n",
       "      <td>0.76</td>\n",
       "    </tr>\n",
       "    <tr>\n",
       "      <th>5578</th>\n",
       "      <td>5669</td>\n",
       "      <td>Zimbabwe</td>\n",
       "      <td>Africa</td>\n",
       "      <td>2017</td>\n",
       "      <td>10340.0</td>\n",
       "      <td>0.70</td>\n",
       "    </tr>\n",
       "    <tr>\n",
       "      <th>5579</th>\n",
       "      <td>5661</td>\n",
       "      <td>Zimbabwe</td>\n",
       "      <td>Africa</td>\n",
       "      <td>2018</td>\n",
       "      <td>12380.0</td>\n",
       "      <td>0.82</td>\n",
       "    </tr>\n",
       "    <tr>\n",
       "      <th>5580</th>\n",
       "      <td>5665</td>\n",
       "      <td>Zimbabwe</td>\n",
       "      <td>Africa</td>\n",
       "      <td>2019</td>\n",
       "      <td>11760.0</td>\n",
       "      <td>0.77</td>\n",
       "    </tr>\n",
       "  </tbody>\n",
       "</table>\n",
       "<p>5581 rows × 6 columns</p>\n",
       "</div>"
      ],
      "text/plain": [
       "      index      country  region  year  kilotons  mtpc\n",
       "0        12  Afghanistan    Asia  1990    2380.0  0.22\n",
       "1        13  Afghanistan    Asia  1991    2230.0  0.21\n",
       "2        17  Afghanistan    Asia  1992    1390.0  0.12\n",
       "3        18  Afghanistan    Asia  1993    1340.0  0.10\n",
       "4        19  Afghanistan    Asia  1994    1290.0  0.08\n",
       "...     ...          ...     ...   ...       ...   ...\n",
       "5576   5660     Zimbabwe  Africa  2015   12430.0  0.88\n",
       "5577   5667     Zimbabwe  Africa  2016   11020.0  0.76\n",
       "5578   5669     Zimbabwe  Africa  2017   10340.0  0.70\n",
       "5579   5661     Zimbabwe  Africa  2018   12380.0  0.82\n",
       "5580   5665     Zimbabwe  Africa  2019   11760.0  0.77\n",
       "\n",
       "[5581 rows x 6 columns]"
      ]
     },
     "execution_count": 22,
     "metadata": {},
     "output_type": "execute_result"
    }
   ],
   "source": [
    "df = df.sort_values([\"country\", \"year\"]).reset_index()\n",
    "df"
   ]
  },
  {
   "cell_type": "code",
   "execution_count": 23,
   "id": "4fd12d7a",
   "metadata": {},
   "outputs": [
    {
     "data": {
      "text/plain": [
       "0"
      ]
     },
     "execution_count": 23,
     "metadata": {},
     "output_type": "execute_result"
    }
   ],
   "source": [
    "# For each country, if there is at least one null value of kilotons, then pandas\n",
    "# must apply the backward-fill and forward-fill to ensure there will be no null\n",
    "# values left.\n",
    "for country in df[\"country\"].unique().tolist():\n",
    "    filter = df[\"country\"] == country\n",
    "    if df[\"kilotons\"][filter].hasnans:\n",
    "        df[filter] = df.query(f\"country == '{country}'\").bfill().ffill()\n",
    "int(df[\"kilotons\"].isna().sum())"
   ]
  },
  {
   "cell_type": "markdown",
   "id": "6fb311f4",
   "metadata": {},
   "source": [
    "## Saving clean dataset"
   ]
  },
  {
   "cell_type": "code",
   "execution_count": 24,
   "id": "573938ee",
   "metadata": {},
   "outputs": [
    {
     "name": "stdout",
     "output_type": "stream",
     "text": [
      "<class 'pandas.core.frame.DataFrame'>\n",
      "RangeIndex: 5581 entries, 0 to 5580\n",
      "Data columns (total 6 columns):\n",
      " #   Column    Non-Null Count  Dtype  \n",
      "---  ------    --------------  -----  \n",
      " 0   index     5581 non-null   int64  \n",
      " 1   country   5581 non-null   object \n",
      " 2   region    5581 non-null   object \n",
      " 3   year      5581 non-null   int64  \n",
      " 4   kilotons  5581 non-null   float64\n",
      " 5   mtpc      5581 non-null   float64\n",
      "dtypes: float64(2), int64(2), object(2)\n",
      "memory usage: 261.7+ KB\n"
     ]
    }
   ],
   "source": [
    "df.info()"
   ]
  },
  {
   "cell_type": "code",
   "execution_count": 25,
   "id": "30b1b442",
   "metadata": {},
   "outputs": [],
   "source": [
    "df.to_parquet(\"data/processed/co2_emissions.parquet\")"
   ]
  },
  {
   "cell_type": "markdown",
   "id": "8195d8ed",
   "metadata": {},
   "source": [
    "# Data Analysis"
   ]
  },
  {
   "cell_type": "code",
   "execution_count": 26,
   "id": "dbd0c317",
   "metadata": {},
   "outputs": [
    {
     "data": {
      "text/html": [
       "<div>\n",
       "<style scoped>\n",
       "    .dataframe tbody tr th:only-of-type {\n",
       "        vertical-align: middle;\n",
       "    }\n",
       "\n",
       "    .dataframe tbody tr th {\n",
       "        vertical-align: top;\n",
       "    }\n",
       "\n",
       "    .dataframe thead th {\n",
       "        text-align: right;\n",
       "    }\n",
       "</style>\n",
       "<table border=\"1\" class=\"dataframe\">\n",
       "  <thead>\n",
       "    <tr style=\"text-align: right;\">\n",
       "      <th></th>\n",
       "      <th>index</th>\n",
       "      <th>country</th>\n",
       "      <th>region</th>\n",
       "      <th>year</th>\n",
       "      <th>kilotons</th>\n",
       "      <th>mtpc</th>\n",
       "    </tr>\n",
       "  </thead>\n",
       "  <tbody>\n",
       "    <tr>\n",
       "      <th>0</th>\n",
       "      <td>12</td>\n",
       "      <td>Afghanistan</td>\n",
       "      <td>Asia</td>\n",
       "      <td>1990</td>\n",
       "      <td>2380.0</td>\n",
       "      <td>0.22</td>\n",
       "    </tr>\n",
       "    <tr>\n",
       "      <th>1</th>\n",
       "      <td>13</td>\n",
       "      <td>Afghanistan</td>\n",
       "      <td>Asia</td>\n",
       "      <td>1991</td>\n",
       "      <td>2230.0</td>\n",
       "      <td>0.21</td>\n",
       "    </tr>\n",
       "    <tr>\n",
       "      <th>2</th>\n",
       "      <td>17</td>\n",
       "      <td>Afghanistan</td>\n",
       "      <td>Asia</td>\n",
       "      <td>1992</td>\n",
       "      <td>1390.0</td>\n",
       "      <td>0.12</td>\n",
       "    </tr>\n",
       "    <tr>\n",
       "      <th>3</th>\n",
       "      <td>18</td>\n",
       "      <td>Afghanistan</td>\n",
       "      <td>Asia</td>\n",
       "      <td>1993</td>\n",
       "      <td>1340.0</td>\n",
       "      <td>0.10</td>\n",
       "    </tr>\n",
       "    <tr>\n",
       "      <th>4</th>\n",
       "      <td>19</td>\n",
       "      <td>Afghanistan</td>\n",
       "      <td>Asia</td>\n",
       "      <td>1994</td>\n",
       "      <td>1290.0</td>\n",
       "      <td>0.08</td>\n",
       "    </tr>\n",
       "    <tr>\n",
       "      <th>...</th>\n",
       "      <td>...</td>\n",
       "      <td>...</td>\n",
       "      <td>...</td>\n",
       "      <td>...</td>\n",
       "      <td>...</td>\n",
       "      <td>...</td>\n",
       "    </tr>\n",
       "    <tr>\n",
       "      <th>5576</th>\n",
       "      <td>5660</td>\n",
       "      <td>Zimbabwe</td>\n",
       "      <td>Africa</td>\n",
       "      <td>2015</td>\n",
       "      <td>12430.0</td>\n",
       "      <td>0.88</td>\n",
       "    </tr>\n",
       "    <tr>\n",
       "      <th>5577</th>\n",
       "      <td>5667</td>\n",
       "      <td>Zimbabwe</td>\n",
       "      <td>Africa</td>\n",
       "      <td>2016</td>\n",
       "      <td>11020.0</td>\n",
       "      <td>0.76</td>\n",
       "    </tr>\n",
       "    <tr>\n",
       "      <th>5578</th>\n",
       "      <td>5669</td>\n",
       "      <td>Zimbabwe</td>\n",
       "      <td>Africa</td>\n",
       "      <td>2017</td>\n",
       "      <td>10340.0</td>\n",
       "      <td>0.70</td>\n",
       "    </tr>\n",
       "    <tr>\n",
       "      <th>5579</th>\n",
       "      <td>5661</td>\n",
       "      <td>Zimbabwe</td>\n",
       "      <td>Africa</td>\n",
       "      <td>2018</td>\n",
       "      <td>12380.0</td>\n",
       "      <td>0.82</td>\n",
       "    </tr>\n",
       "    <tr>\n",
       "      <th>5580</th>\n",
       "      <td>5665</td>\n",
       "      <td>Zimbabwe</td>\n",
       "      <td>Africa</td>\n",
       "      <td>2019</td>\n",
       "      <td>11760.0</td>\n",
       "      <td>0.77</td>\n",
       "    </tr>\n",
       "  </tbody>\n",
       "</table>\n",
       "<p>5581 rows × 6 columns</p>\n",
       "</div>"
      ],
      "text/plain": [
       "      index      country  region  year  kilotons  mtpc\n",
       "0        12  Afghanistan    Asia  1990    2380.0  0.22\n",
       "1        13  Afghanistan    Asia  1991    2230.0  0.21\n",
       "2        17  Afghanistan    Asia  1992    1390.0  0.12\n",
       "3        18  Afghanistan    Asia  1993    1340.0  0.10\n",
       "4        19  Afghanistan    Asia  1994    1290.0  0.08\n",
       "...     ...          ...     ...   ...       ...   ...\n",
       "5576   5660     Zimbabwe  Africa  2015   12430.0  0.88\n",
       "5577   5667     Zimbabwe  Africa  2016   11020.0  0.76\n",
       "5578   5669     Zimbabwe  Africa  2017   10340.0  0.70\n",
       "5579   5661     Zimbabwe  Africa  2018   12380.0  0.82\n",
       "5580   5665     Zimbabwe  Africa  2019   11760.0  0.77\n",
       "\n",
       "[5581 rows x 6 columns]"
      ]
     },
     "execution_count": 26,
     "metadata": {},
     "output_type": "execute_result"
    }
   ],
   "source": [
    "df = pd.read_parquet(\"data/processed/co2_emissions.parquet\")\n",
    "df"
   ]
  },
  {
   "cell_type": "markdown",
   "id": "2721dce9",
   "metadata": {},
   "source": [
    "## Total Emissions per Region"
   ]
  },
  {
   "cell_type": "markdown",
   "id": "b7729b1d",
   "metadata": {},
   "source": [
    "In this case we are interested in visualizing the number of kilotons of CO2 emitted per region."
   ]
  },
  {
   "cell_type": "code",
   "execution_count": 27,
   "id": "d1eed92c",
   "metadata": {},
   "outputs": [],
   "source": [
    "import plotly.express as px"
   ]
  },
  {
   "cell_type": "markdown",
   "id": "ad8d4bb6",
   "metadata": {},
   "source": [
    "A first approach would be to compare the total per region for the whole period with data:"
   ]
  },
  {
   "cell_type": "code",
   "execution_count": 28,
   "id": "8b4063b2",
   "metadata": {},
   "outputs": [
    {
     "data": {
      "text/html": [
       "<div>\n",
       "<style scoped>\n",
       "    .dataframe tbody tr th:only-of-type {\n",
       "        vertical-align: middle;\n",
       "    }\n",
       "\n",
       "    .dataframe tbody tr th {\n",
       "        vertical-align: top;\n",
       "    }\n",
       "\n",
       "    .dataframe thead th {\n",
       "        text-align: right;\n",
       "    }\n",
       "</style>\n",
       "<table border=\"1\" class=\"dataframe\">\n",
       "  <thead>\n",
       "    <tr style=\"text-align: right;\">\n",
       "      <th></th>\n",
       "      <th>region</th>\n",
       "      <th>kilotons</th>\n",
       "    </tr>\n",
       "  </thead>\n",
       "  <tbody>\n",
       "    <tr>\n",
       "      <th>0</th>\n",
       "      <td>Africa</td>\n",
       "      <td>2.914535e+07</td>\n",
       "    </tr>\n",
       "    <tr>\n",
       "      <th>1</th>\n",
       "      <td>Americas</td>\n",
       "      <td>2.139168e+08</td>\n",
       "    </tr>\n",
       "    <tr>\n",
       "      <th>2</th>\n",
       "      <td>Asia</td>\n",
       "      <td>3.670914e+08</td>\n",
       "    </tr>\n",
       "    <tr>\n",
       "      <th>3</th>\n",
       "      <td>Europa</td>\n",
       "      <td>1.718793e+08</td>\n",
       "    </tr>\n",
       "    <tr>\n",
       "      <th>4</th>\n",
       "      <td>Oceania</td>\n",
       "      <td>1.004896e+07</td>\n",
       "    </tr>\n",
       "  </tbody>\n",
       "</table>\n",
       "</div>"
      ],
      "text/plain": [
       "     region      kilotons\n",
       "0    Africa  2.914535e+07\n",
       "1  Americas  2.139168e+08\n",
       "2      Asia  3.670914e+08\n",
       "3    Europa  1.718793e+08\n",
       "4   Oceania  1.004896e+07"
      ]
     },
     "metadata": {},
     "output_type": "display_data"
    }
   ],
   "source": [
    "total_per_region = (\n",
    "    df.groupby(\"region\")[\"kilotons\"].sum().to_frame().reset_index()\n",
    ")\n",
    "display(total_per_region)"
   ]
  },
  {
   "cell_type": "code",
   "execution_count": 29,
   "id": "925d4d0c",
   "metadata": {},
   "outputs": [
    {
     "data": {
      "application/vnd.plotly.v1+json": {
       "config": {
        "plotlyServerURL": "https://plot.ly"
       },
       "data": [
        {
         "hovertemplate": "region=%{x}<br>kilotons=%{y}<extra></extra>",
         "legendgroup": "",
         "marker": {
          "color": "#636efa",
          "pattern": {
           "shape": ""
          }
         },
         "name": "",
         "orientation": "v",
         "showlegend": false,
         "textposition": "auto",
         "type": "bar",
         "x": [
          "Africa",
          "Americas",
          "Asia",
          "Europa",
          "Oceania"
         ],
         "xaxis": "x",
         "y": {
          "bdata": "w/UoYJDLe0FmZmbZOICpQTMz89pe4bVBMzOzG1d9pEH2KFz/typjQQ==",
          "dtype": "f8"
         },
         "yaxis": "y"
        }
       ],
       "layout": {
        "barmode": "relative",
        "legend": {
         "tracegroupgap": 0
        },
        "margin": {
         "t": 60
        },
        "template": {
         "data": {
          "bar": [
           {
            "error_x": {
             "color": "#2a3f5f"
            },
            "error_y": {
             "color": "#2a3f5f"
            },
            "marker": {
             "line": {
              "color": "#E5ECF6",
              "width": 0.5
             },
             "pattern": {
              "fillmode": "overlay",
              "size": 10,
              "solidity": 0.2
             }
            },
            "type": "bar"
           }
          ],
          "barpolar": [
           {
            "marker": {
             "line": {
              "color": "#E5ECF6",
              "width": 0.5
             },
             "pattern": {
              "fillmode": "overlay",
              "size": 10,
              "solidity": 0.2
             }
            },
            "type": "barpolar"
           }
          ],
          "carpet": [
           {
            "aaxis": {
             "endlinecolor": "#2a3f5f",
             "gridcolor": "white",
             "linecolor": "white",
             "minorgridcolor": "white",
             "startlinecolor": "#2a3f5f"
            },
            "baxis": {
             "endlinecolor": "#2a3f5f",
             "gridcolor": "white",
             "linecolor": "white",
             "minorgridcolor": "white",
             "startlinecolor": "#2a3f5f"
            },
            "type": "carpet"
           }
          ],
          "choropleth": [
           {
            "colorbar": {
             "outlinewidth": 0,
             "ticks": ""
            },
            "type": "choropleth"
           }
          ],
          "contour": [
           {
            "colorbar": {
             "outlinewidth": 0,
             "ticks": ""
            },
            "colorscale": [
             [
              0,
              "#0d0887"
             ],
             [
              0.1111111111111111,
              "#46039f"
             ],
             [
              0.2222222222222222,
              "#7201a8"
             ],
             [
              0.3333333333333333,
              "#9c179e"
             ],
             [
              0.4444444444444444,
              "#bd3786"
             ],
             [
              0.5555555555555556,
              "#d8576b"
             ],
             [
              0.6666666666666666,
              "#ed7953"
             ],
             [
              0.7777777777777778,
              "#fb9f3a"
             ],
             [
              0.8888888888888888,
              "#fdca26"
             ],
             [
              1,
              "#f0f921"
             ]
            ],
            "type": "contour"
           }
          ],
          "contourcarpet": [
           {
            "colorbar": {
             "outlinewidth": 0,
             "ticks": ""
            },
            "type": "contourcarpet"
           }
          ],
          "heatmap": [
           {
            "colorbar": {
             "outlinewidth": 0,
             "ticks": ""
            },
            "colorscale": [
             [
              0,
              "#0d0887"
             ],
             [
              0.1111111111111111,
              "#46039f"
             ],
             [
              0.2222222222222222,
              "#7201a8"
             ],
             [
              0.3333333333333333,
              "#9c179e"
             ],
             [
              0.4444444444444444,
              "#bd3786"
             ],
             [
              0.5555555555555556,
              "#d8576b"
             ],
             [
              0.6666666666666666,
              "#ed7953"
             ],
             [
              0.7777777777777778,
              "#fb9f3a"
             ],
             [
              0.8888888888888888,
              "#fdca26"
             ],
             [
              1,
              "#f0f921"
             ]
            ],
            "type": "heatmap"
           }
          ],
          "histogram": [
           {
            "marker": {
             "pattern": {
              "fillmode": "overlay",
              "size": 10,
              "solidity": 0.2
             }
            },
            "type": "histogram"
           }
          ],
          "histogram2d": [
           {
            "colorbar": {
             "outlinewidth": 0,
             "ticks": ""
            },
            "colorscale": [
             [
              0,
              "#0d0887"
             ],
             [
              0.1111111111111111,
              "#46039f"
             ],
             [
              0.2222222222222222,
              "#7201a8"
             ],
             [
              0.3333333333333333,
              "#9c179e"
             ],
             [
              0.4444444444444444,
              "#bd3786"
             ],
             [
              0.5555555555555556,
              "#d8576b"
             ],
             [
              0.6666666666666666,
              "#ed7953"
             ],
             [
              0.7777777777777778,
              "#fb9f3a"
             ],
             [
              0.8888888888888888,
              "#fdca26"
             ],
             [
              1,
              "#f0f921"
             ]
            ],
            "type": "histogram2d"
           }
          ],
          "histogram2dcontour": [
           {
            "colorbar": {
             "outlinewidth": 0,
             "ticks": ""
            },
            "colorscale": [
             [
              0,
              "#0d0887"
             ],
             [
              0.1111111111111111,
              "#46039f"
             ],
             [
              0.2222222222222222,
              "#7201a8"
             ],
             [
              0.3333333333333333,
              "#9c179e"
             ],
             [
              0.4444444444444444,
              "#bd3786"
             ],
             [
              0.5555555555555556,
              "#d8576b"
             ],
             [
              0.6666666666666666,
              "#ed7953"
             ],
             [
              0.7777777777777778,
              "#fb9f3a"
             ],
             [
              0.8888888888888888,
              "#fdca26"
             ],
             [
              1,
              "#f0f921"
             ]
            ],
            "type": "histogram2dcontour"
           }
          ],
          "mesh3d": [
           {
            "colorbar": {
             "outlinewidth": 0,
             "ticks": ""
            },
            "type": "mesh3d"
           }
          ],
          "parcoords": [
           {
            "line": {
             "colorbar": {
              "outlinewidth": 0,
              "ticks": ""
             }
            },
            "type": "parcoords"
           }
          ],
          "pie": [
           {
            "automargin": true,
            "type": "pie"
           }
          ],
          "scatter": [
           {
            "fillpattern": {
             "fillmode": "overlay",
             "size": 10,
             "solidity": 0.2
            },
            "type": "scatter"
           }
          ],
          "scatter3d": [
           {
            "line": {
             "colorbar": {
              "outlinewidth": 0,
              "ticks": ""
             }
            },
            "marker": {
             "colorbar": {
              "outlinewidth": 0,
              "ticks": ""
             }
            },
            "type": "scatter3d"
           }
          ],
          "scattercarpet": [
           {
            "marker": {
             "colorbar": {
              "outlinewidth": 0,
              "ticks": ""
             }
            },
            "type": "scattercarpet"
           }
          ],
          "scattergeo": [
           {
            "marker": {
             "colorbar": {
              "outlinewidth": 0,
              "ticks": ""
             }
            },
            "type": "scattergeo"
           }
          ],
          "scattergl": [
           {
            "marker": {
             "colorbar": {
              "outlinewidth": 0,
              "ticks": ""
             }
            },
            "type": "scattergl"
           }
          ],
          "scattermap": [
           {
            "marker": {
             "colorbar": {
              "outlinewidth": 0,
              "ticks": ""
             }
            },
            "type": "scattermap"
           }
          ],
          "scattermapbox": [
           {
            "marker": {
             "colorbar": {
              "outlinewidth": 0,
              "ticks": ""
             }
            },
            "type": "scattermapbox"
           }
          ],
          "scatterpolar": [
           {
            "marker": {
             "colorbar": {
              "outlinewidth": 0,
              "ticks": ""
             }
            },
            "type": "scatterpolar"
           }
          ],
          "scatterpolargl": [
           {
            "marker": {
             "colorbar": {
              "outlinewidth": 0,
              "ticks": ""
             }
            },
            "type": "scatterpolargl"
           }
          ],
          "scatterternary": [
           {
            "marker": {
             "colorbar": {
              "outlinewidth": 0,
              "ticks": ""
             }
            },
            "type": "scatterternary"
           }
          ],
          "surface": [
           {
            "colorbar": {
             "outlinewidth": 0,
             "ticks": ""
            },
            "colorscale": [
             [
              0,
              "#0d0887"
             ],
             [
              0.1111111111111111,
              "#46039f"
             ],
             [
              0.2222222222222222,
              "#7201a8"
             ],
             [
              0.3333333333333333,
              "#9c179e"
             ],
             [
              0.4444444444444444,
              "#bd3786"
             ],
             [
              0.5555555555555556,
              "#d8576b"
             ],
             [
              0.6666666666666666,
              "#ed7953"
             ],
             [
              0.7777777777777778,
              "#fb9f3a"
             ],
             [
              0.8888888888888888,
              "#fdca26"
             ],
             [
              1,
              "#f0f921"
             ]
            ],
            "type": "surface"
           }
          ],
          "table": [
           {
            "cells": {
             "fill": {
              "color": "#EBF0F8"
             },
             "line": {
              "color": "white"
             }
            },
            "header": {
             "fill": {
              "color": "#C8D4E3"
             },
             "line": {
              "color": "white"
             }
            },
            "type": "table"
           }
          ]
         },
         "layout": {
          "annotationdefaults": {
           "arrowcolor": "#2a3f5f",
           "arrowhead": 0,
           "arrowwidth": 1
          },
          "autotypenumbers": "strict",
          "coloraxis": {
           "colorbar": {
            "outlinewidth": 0,
            "ticks": ""
           }
          },
          "colorscale": {
           "diverging": [
            [
             0,
             "#8e0152"
            ],
            [
             0.1,
             "#c51b7d"
            ],
            [
             0.2,
             "#de77ae"
            ],
            [
             0.3,
             "#f1b6da"
            ],
            [
             0.4,
             "#fde0ef"
            ],
            [
             0.5,
             "#f7f7f7"
            ],
            [
             0.6,
             "#e6f5d0"
            ],
            [
             0.7,
             "#b8e186"
            ],
            [
             0.8,
             "#7fbc41"
            ],
            [
             0.9,
             "#4d9221"
            ],
            [
             1,
             "#276419"
            ]
           ],
           "sequential": [
            [
             0,
             "#0d0887"
            ],
            [
             0.1111111111111111,
             "#46039f"
            ],
            [
             0.2222222222222222,
             "#7201a8"
            ],
            [
             0.3333333333333333,
             "#9c179e"
            ],
            [
             0.4444444444444444,
             "#bd3786"
            ],
            [
             0.5555555555555556,
             "#d8576b"
            ],
            [
             0.6666666666666666,
             "#ed7953"
            ],
            [
             0.7777777777777778,
             "#fb9f3a"
            ],
            [
             0.8888888888888888,
             "#fdca26"
            ],
            [
             1,
             "#f0f921"
            ]
           ],
           "sequentialminus": [
            [
             0,
             "#0d0887"
            ],
            [
             0.1111111111111111,
             "#46039f"
            ],
            [
             0.2222222222222222,
             "#7201a8"
            ],
            [
             0.3333333333333333,
             "#9c179e"
            ],
            [
             0.4444444444444444,
             "#bd3786"
            ],
            [
             0.5555555555555556,
             "#d8576b"
            ],
            [
             0.6666666666666666,
             "#ed7953"
            ],
            [
             0.7777777777777778,
             "#fb9f3a"
            ],
            [
             0.8888888888888888,
             "#fdca26"
            ],
            [
             1,
             "#f0f921"
            ]
           ]
          },
          "colorway": [
           "#636efa",
           "#EF553B",
           "#00cc96",
           "#ab63fa",
           "#FFA15A",
           "#19d3f3",
           "#FF6692",
           "#B6E880",
           "#FF97FF",
           "#FECB52"
          ],
          "font": {
           "color": "#2a3f5f"
          },
          "geo": {
           "bgcolor": "white",
           "lakecolor": "white",
           "landcolor": "#E5ECF6",
           "showlakes": true,
           "showland": true,
           "subunitcolor": "white"
          },
          "hoverlabel": {
           "align": "left"
          },
          "hovermode": "closest",
          "mapbox": {
           "style": "light"
          },
          "paper_bgcolor": "white",
          "plot_bgcolor": "#E5ECF6",
          "polar": {
           "angularaxis": {
            "gridcolor": "white",
            "linecolor": "white",
            "ticks": ""
           },
           "bgcolor": "#E5ECF6",
           "radialaxis": {
            "gridcolor": "white",
            "linecolor": "white",
            "ticks": ""
           }
          },
          "scene": {
           "xaxis": {
            "backgroundcolor": "#E5ECF6",
            "gridcolor": "white",
            "gridwidth": 2,
            "linecolor": "white",
            "showbackground": true,
            "ticks": "",
            "zerolinecolor": "white"
           },
           "yaxis": {
            "backgroundcolor": "#E5ECF6",
            "gridcolor": "white",
            "gridwidth": 2,
            "linecolor": "white",
            "showbackground": true,
            "ticks": "",
            "zerolinecolor": "white"
           },
           "zaxis": {
            "backgroundcolor": "#E5ECF6",
            "gridcolor": "white",
            "gridwidth": 2,
            "linecolor": "white",
            "showbackground": true,
            "ticks": "",
            "zerolinecolor": "white"
           }
          },
          "shapedefaults": {
           "line": {
            "color": "#2a3f5f"
           }
          },
          "ternary": {
           "aaxis": {
            "gridcolor": "white",
            "linecolor": "white",
            "ticks": ""
           },
           "baxis": {
            "gridcolor": "white",
            "linecolor": "white",
            "ticks": ""
           },
           "bgcolor": "#E5ECF6",
           "caxis": {
            "gridcolor": "white",
            "linecolor": "white",
            "ticks": ""
           }
          },
          "title": {
           "x": 0.05
          },
          "xaxis": {
           "automargin": true,
           "gridcolor": "white",
           "linecolor": "white",
           "ticks": "",
           "title": {
            "standoff": 15
           },
           "zerolinecolor": "white",
           "zerolinewidth": 2
          },
          "yaxis": {
           "automargin": true,
           "gridcolor": "white",
           "linecolor": "white",
           "ticks": "",
           "title": {
            "standoff": 15
           },
           "zerolinecolor": "white",
           "zerolinewidth": 2
          }
         }
        },
        "xaxis": {
         "anchor": "y",
         "domain": [
          0,
          1
         ],
         "title": {
          "text": "region"
         }
        },
        "yaxis": {
         "anchor": "x",
         "domain": [
          0,
          1
         ],
         "title": {
          "text": "kilotons"
         }
        }
       }
      }
     },
     "metadata": {},
     "output_type": "display_data"
    }
   ],
   "source": [
    "px.bar(total_per_region, \"region\", \"kilotons\")  # kilotons_barplot.png"
   ]
  },
  {
   "cell_type": "markdown",
   "id": "0c096313",
   "metadata": {},
   "source": [
    "## Total Emissions per Region by Year"
   ]
  },
  {
   "cell_type": "markdown",
   "id": "2daa13bf",
   "metadata": {},
   "source": [
    "However, a more interesting information would be the time evolution of emissions:"
   ]
  },
  {
   "cell_type": "code",
   "execution_count": 30,
   "id": "0b1dfdbb",
   "metadata": {},
   "outputs": [
    {
     "data": {
      "text/html": [
       "<div>\n",
       "<style scoped>\n",
       "    .dataframe tbody tr th:only-of-type {\n",
       "        vertical-align: middle;\n",
       "    }\n",
       "\n",
       "    .dataframe tbody tr th {\n",
       "        vertical-align: top;\n",
       "    }\n",
       "\n",
       "    .dataframe thead th {\n",
       "        text-align: right;\n",
       "    }\n",
       "</style>\n",
       "<table border=\"1\" class=\"dataframe\">\n",
       "  <thead>\n",
       "    <tr style=\"text-align: right;\">\n",
       "      <th></th>\n",
       "      <th>region</th>\n",
       "      <th>year</th>\n",
       "      <th>kilotons</th>\n",
       "    </tr>\n",
       "  </thead>\n",
       "  <tbody>\n",
       "    <tr>\n",
       "      <th>0</th>\n",
       "      <td>Africa</td>\n",
       "      <td>1990</td>\n",
       "      <td>635700.00</td>\n",
       "    </tr>\n",
       "    <tr>\n",
       "      <th>1</th>\n",
       "      <td>Africa</td>\n",
       "      <td>1991</td>\n",
       "      <td>650580.00</td>\n",
       "    </tr>\n",
       "    <tr>\n",
       "      <th>2</th>\n",
       "      <td>Africa</td>\n",
       "      <td>1992</td>\n",
       "      <td>658890.00</td>\n",
       "    </tr>\n",
       "    <tr>\n",
       "      <th>3</th>\n",
       "      <td>Africa</td>\n",
       "      <td>1993</td>\n",
       "      <td>671690.00</td>\n",
       "    </tr>\n",
       "    <tr>\n",
       "      <th>4</th>\n",
       "      <td>Africa</td>\n",
       "      <td>1994</td>\n",
       "      <td>682910.00</td>\n",
       "    </tr>\n",
       "    <tr>\n",
       "      <th>...</th>\n",
       "      <td>...</td>\n",
       "      <td>...</td>\n",
       "      <td>...</td>\n",
       "    </tr>\n",
       "    <tr>\n",
       "      <th>145</th>\n",
       "      <td>Oceania</td>\n",
       "      <td>2015</td>\n",
       "      <td>419419.99</td>\n",
       "    </tr>\n",
       "    <tr>\n",
       "      <th>146</th>\n",
       "      <td>Oceania</td>\n",
       "      <td>2016</td>\n",
       "      <td>427089.99</td>\n",
       "    </tr>\n",
       "    <tr>\n",
       "      <th>147</th>\n",
       "      <td>Oceania</td>\n",
       "      <td>2017</td>\n",
       "      <td>433150.00</td>\n",
       "    </tr>\n",
       "    <tr>\n",
       "      <th>148</th>\n",
       "      <td>Oceania</td>\n",
       "      <td>2018</td>\n",
       "      <td>430400.01</td>\n",
       "    </tr>\n",
       "    <tr>\n",
       "      <th>149</th>\n",
       "      <td>Oceania</td>\n",
       "      <td>2019</td>\n",
       "      <td>431550.00</td>\n",
       "    </tr>\n",
       "  </tbody>\n",
       "</table>\n",
       "<p>150 rows × 3 columns</p>\n",
       "</div>"
      ],
      "text/plain": [
       "      region  year   kilotons\n",
       "0     Africa  1990  635700.00\n",
       "1     Africa  1991  650580.00\n",
       "2     Africa  1992  658890.00\n",
       "3     Africa  1993  671690.00\n",
       "4     Africa  1994  682910.00\n",
       "..       ...   ...        ...\n",
       "145  Oceania  2015  419419.99\n",
       "146  Oceania  2016  427089.99\n",
       "147  Oceania  2017  433150.00\n",
       "148  Oceania  2018  430400.01\n",
       "149  Oceania  2019  431550.00\n",
       "\n",
       "[150 rows x 3 columns]"
      ]
     },
     "metadata": {},
     "output_type": "display_data"
    }
   ],
   "source": [
    "total_per_region_by_year = (\n",
    "    df.groupby([\"region\", \"year\"])[\"kilotons\"].sum().to_frame().reset_index()\n",
    ")\n",
    "display(total_per_region_by_year)"
   ]
  },
  {
   "cell_type": "code",
   "execution_count": 31,
   "id": "b0244791",
   "metadata": {},
   "outputs": [
    {
     "data": {
      "application/vnd.plotly.v1+json": {
       "config": {
        "plotlyServerURL": "https://plot.ly"
       },
       "data": [
        {
         "hovertemplate": "region=Africa<br>year=%{x}<br>kilotons=%{y}<extra></extra>",
         "legendgroup": "Africa",
         "line": {
          "color": "#636efa",
          "dash": "solid"
         },
         "marker": {
          "symbol": "circle"
         },
         "mode": "lines",
         "name": "Africa",
         "orientation": "v",
         "showlegend": true,
         "type": "scatter",
         "x": {
          "bdata": "xgfHB8gHyQfKB8sHzAfNB84HzwfQB9EH0gfTB9QH1QfWB9cH2AfZB9oH2wfcB90H3gffB+AH4QfiB+MH",
          "dtype": "i2"
         },
         "xaxis": "x",
         "y": {
          "bdata": "AAAAAGhmI0EAAAAAqNojQQAAAACUGyRBAAAAAJR/JEEAAAAAPNckQQAAAACk4SVBAAAAAJTIJkEAAAAACCwnQQAAAACwVidBAAAAABRcJ0EAAAAAmOsnQQAAAADYwilBUrgeBSweKkEAAAAAzIErQa5H4fp/+SxBrkfh+hu3LUFSuB4FqDQuQa5H4foPFy9B16Nw/V14MEEpXI8Cal0wQQAAAAB2RjFBKVyPAhw3MUHXo3D97UAyQSlcjwIw4DJBAAAAACydM0EAAAAAPIgzQSlcjwK2uDNB16Nw/f1MNEEAAAAArpc0QSlcjwIqPjVB",
          "dtype": "f8"
         },
         "yaxis": "y"
        },
        {
         "hovertemplate": "region=Americas<br>year=%{x}<br>kilotons=%{y}<extra></extra>",
         "legendgroup": "Americas",
         "line": {
          "color": "#EF553B",
          "dash": "solid"
         },
         "marker": {
          "symbol": "circle"
         },
         "mode": "lines",
         "name": "Americas",
         "orientation": "v",
         "showlegend": true,
         "type": "scatter",
         "x": {
          "bdata": "xgfHB8gHyQfKB8sHzAfNB84HzwfQB9EH0gfTB9QH1QfWB9cH2AfZB9oH2wfcB90H3gffB+AH4QfiB+MH",
          "dtype": "i2"
         },
         "xaxis": "x",
         "y": {
          "bdata": "AAAAgBl3V0EAAACAlGVXQQAAAAA4yVdBAAAAAFRNWEEAAACADmNYQQAAAIBRJFlBAAAAgI6RWUEAAAAARmdbQQAAAIDPy1tBAAAAAGPgW0EAAAAA+L1cQQAAAABAJlxBH4Xr8RkfXEHYo3ANa4dcQRWuRwEyelxBC9ejkAu8XEFcj8KFNgldQUjhenStpV1BXI/CdVUNXUHMzMyMAklbQXsUrnfSmlxBPQrXgxcQXEFwPQoH1oFbQTMzMwN9OVxB16NwfVdXXEHhehR+19dbQRSuRwGXTVtBj8L1CET7WkFRuB4FcndbQeF6FI6Ky1pB",
          "dtype": "f8"
         },
         "yaxis": "y"
        },
        {
         "hovertemplate": "region=Asia<br>year=%{x}<br>kilotons=%{y}<extra></extra>",
         "legendgroup": "Asia",
         "line": {
          "color": "#00cc96",
          "dash": "solid"
         },
         "marker": {
          "symbol": "circle"
         },
         "mode": "lines",
         "name": "Asia",
         "orientation": "v",
         "showlegend": true,
         "type": "scatter",
         "x": {
          "bdata": "xgfHB8gHyQfKB8sHzAfNB84HzwfQB9EH0gfTB9QH1QfWB9cH2AfZB9oH2wfcB90H3gffB+AH4QfiB+MH",
          "dtype": "i2"
         },
         "xaxis": "x",
         "y": {
          "bdata": "AAAAAJHpVkEAAACAKOVXQQAAAIBr01hBAAAAgJP/WUEAAAAA2yJbQQAAAACf81xBAAAAANNuXUEAAAAATDZeQQAAAIBPP15BAAAAgHa4XkEAAABAnSZgQQAAAIDPrmBBpHA9whOJYUHD9SjERAFjQTMzMzuT1mRBpHA9OgyEZkHhehQGZCRoQbgehcOw2WlBmZmZQeulakF7FK63ec1rQZqZmfl9/21BzczMXMsZcEFSuB5hM6dwQSlcj2ZKMHFBCtejQCBwcUGPwvV4LmNxQbgehWOQinFBZmZm2gkOckEpXI86raByQUjhejwa7XJB",
          "dtype": "f8"
         },
         "yaxis": "y"
        },
        {
         "hovertemplate": "region=Europa<br>year=%{x}<br>kilotons=%{y}<extra></extra>",
         "legendgroup": "Europa",
         "line": {
          "color": "#ab63fa",
          "dash": "solid"
         },
         "marker": {
          "symbol": "circle"
         },
         "mode": "lines",
         "name": "Europa",
         "orientation": "v",
         "showlegend": true,
         "type": "scatter",
         "x": {
          "bdata": "xgfHB8gHyQfKB8sHzAfNB84HzwfQB9EH0gfTB9QH1QfWB9cH2AfZB9oH2wfcB90H3gffB+AH4QfiB+MH",
          "dtype": "i2"
         },
         "xaxis": "x",
         "y": {
          "bdata": "AAAAAL18W0EAAACArhpbQQAAAADT4FlBAAAAgPq8WEEAAACA8oRXQQAAAIBOb1dBAAAAAEySV0EAAACAj8VWQQAAAIAas1ZBAAAAAJiNVkEAAACA/69WQQAAAABIBVdBwvUofL71VkHsUbh+d6BXQR+F64GEjldBzczMfLt/V0GuR+F66rlXQQAAAIDleFdB16NwfRUwV0EzMzMDG6VSQc3MzHw2QFNB4XoUfmY4U0EK16MAjutSQR+F6wHhPlJB9ihc/+JWUUEfhesBHj9RQQrXowDmJlFBH4XrgZT4UEEUrkeBGs9TQexRuH57X1NB",
          "dtype": "f8"
         },
         "yaxis": "y"
        },
        {
         "hovertemplate": "region=Oceania<br>year=%{x}<br>kilotons=%{y}<extra></extra>",
         "legendgroup": "Oceania",
         "line": {
          "color": "#FFA15A",
          "dash": "solid"
         },
         "marker": {
          "symbol": "circle"
         },
         "mode": "lines",
         "name": "Oceania",
         "orientation": "v",
         "showlegend": true,
         "type": "scatter",
         "x": {
          "bdata": "xgfHB8gHyQfKB8sHzAfNB84HzwfQB9EH0gfTB9QH1QfWB9cH2AfZB9oH2wfcB90H3gffB+AH4QfiB+MH",
          "dtype": "i2"
         },
         "xaxis": "x",
         "y": {
          "bdata": "AAAAABipEUEAAAAAOMARQQAAAADYGhJBAAAAALhdEkEAAAAAAM8SQQAAAAAAbxNBAAAAAKAoFEEAAAAAwLwUQQAAAACI/RVBAAAAAGhjFkEAAAAA6M4WQQAAAAAAL+JAAAAAAHDXF0Fcj8L1x/IXQQAAAABA1ONAAAAAAMB25EBcj8L173gZQQAAAADQCxpBAAAAAMhAGkGkcD0KcHoaQQAAAABA1eJAAAAAALDlGUEAAAAAMAYaQQAAAAAwohlBAAAAABgpGUFcj8L1b5kZQVyPwvVHERpBAAAAAPhvGkGkcD0KAEUaQQAAAAD4VhpB",
          "dtype": "f8"
         },
         "yaxis": "y"
        }
       ],
       "layout": {
        "legend": {
         "title": {
          "text": "region"
         },
         "tracegroupgap": 0
        },
        "margin": {
         "t": 60
        },
        "template": {
         "data": {
          "bar": [
           {
            "error_x": {
             "color": "#2a3f5f"
            },
            "error_y": {
             "color": "#2a3f5f"
            },
            "marker": {
             "line": {
              "color": "#E5ECF6",
              "width": 0.5
             },
             "pattern": {
              "fillmode": "overlay",
              "size": 10,
              "solidity": 0.2
             }
            },
            "type": "bar"
           }
          ],
          "barpolar": [
           {
            "marker": {
             "line": {
              "color": "#E5ECF6",
              "width": 0.5
             },
             "pattern": {
              "fillmode": "overlay",
              "size": 10,
              "solidity": 0.2
             }
            },
            "type": "barpolar"
           }
          ],
          "carpet": [
           {
            "aaxis": {
             "endlinecolor": "#2a3f5f",
             "gridcolor": "white",
             "linecolor": "white",
             "minorgridcolor": "white",
             "startlinecolor": "#2a3f5f"
            },
            "baxis": {
             "endlinecolor": "#2a3f5f",
             "gridcolor": "white",
             "linecolor": "white",
             "minorgridcolor": "white",
             "startlinecolor": "#2a3f5f"
            },
            "type": "carpet"
           }
          ],
          "choropleth": [
           {
            "colorbar": {
             "outlinewidth": 0,
             "ticks": ""
            },
            "type": "choropleth"
           }
          ],
          "contour": [
           {
            "colorbar": {
             "outlinewidth": 0,
             "ticks": ""
            },
            "colorscale": [
             [
              0,
              "#0d0887"
             ],
             [
              0.1111111111111111,
              "#46039f"
             ],
             [
              0.2222222222222222,
              "#7201a8"
             ],
             [
              0.3333333333333333,
              "#9c179e"
             ],
             [
              0.4444444444444444,
              "#bd3786"
             ],
             [
              0.5555555555555556,
              "#d8576b"
             ],
             [
              0.6666666666666666,
              "#ed7953"
             ],
             [
              0.7777777777777778,
              "#fb9f3a"
             ],
             [
              0.8888888888888888,
              "#fdca26"
             ],
             [
              1,
              "#f0f921"
             ]
            ],
            "type": "contour"
           }
          ],
          "contourcarpet": [
           {
            "colorbar": {
             "outlinewidth": 0,
             "ticks": ""
            },
            "type": "contourcarpet"
           }
          ],
          "heatmap": [
           {
            "colorbar": {
             "outlinewidth": 0,
             "ticks": ""
            },
            "colorscale": [
             [
              0,
              "#0d0887"
             ],
             [
              0.1111111111111111,
              "#46039f"
             ],
             [
              0.2222222222222222,
              "#7201a8"
             ],
             [
              0.3333333333333333,
              "#9c179e"
             ],
             [
              0.4444444444444444,
              "#bd3786"
             ],
             [
              0.5555555555555556,
              "#d8576b"
             ],
             [
              0.6666666666666666,
              "#ed7953"
             ],
             [
              0.7777777777777778,
              "#fb9f3a"
             ],
             [
              0.8888888888888888,
              "#fdca26"
             ],
             [
              1,
              "#f0f921"
             ]
            ],
            "type": "heatmap"
           }
          ],
          "histogram": [
           {
            "marker": {
             "pattern": {
              "fillmode": "overlay",
              "size": 10,
              "solidity": 0.2
             }
            },
            "type": "histogram"
           }
          ],
          "histogram2d": [
           {
            "colorbar": {
             "outlinewidth": 0,
             "ticks": ""
            },
            "colorscale": [
             [
              0,
              "#0d0887"
             ],
             [
              0.1111111111111111,
              "#46039f"
             ],
             [
              0.2222222222222222,
              "#7201a8"
             ],
             [
              0.3333333333333333,
              "#9c179e"
             ],
             [
              0.4444444444444444,
              "#bd3786"
             ],
             [
              0.5555555555555556,
              "#d8576b"
             ],
             [
              0.6666666666666666,
              "#ed7953"
             ],
             [
              0.7777777777777778,
              "#fb9f3a"
             ],
             [
              0.8888888888888888,
              "#fdca26"
             ],
             [
              1,
              "#f0f921"
             ]
            ],
            "type": "histogram2d"
           }
          ],
          "histogram2dcontour": [
           {
            "colorbar": {
             "outlinewidth": 0,
             "ticks": ""
            },
            "colorscale": [
             [
              0,
              "#0d0887"
             ],
             [
              0.1111111111111111,
              "#46039f"
             ],
             [
              0.2222222222222222,
              "#7201a8"
             ],
             [
              0.3333333333333333,
              "#9c179e"
             ],
             [
              0.4444444444444444,
              "#bd3786"
             ],
             [
              0.5555555555555556,
              "#d8576b"
             ],
             [
              0.6666666666666666,
              "#ed7953"
             ],
             [
              0.7777777777777778,
              "#fb9f3a"
             ],
             [
              0.8888888888888888,
              "#fdca26"
             ],
             [
              1,
              "#f0f921"
             ]
            ],
            "type": "histogram2dcontour"
           }
          ],
          "mesh3d": [
           {
            "colorbar": {
             "outlinewidth": 0,
             "ticks": ""
            },
            "type": "mesh3d"
           }
          ],
          "parcoords": [
           {
            "line": {
             "colorbar": {
              "outlinewidth": 0,
              "ticks": ""
             }
            },
            "type": "parcoords"
           }
          ],
          "pie": [
           {
            "automargin": true,
            "type": "pie"
           }
          ],
          "scatter": [
           {
            "fillpattern": {
             "fillmode": "overlay",
             "size": 10,
             "solidity": 0.2
            },
            "type": "scatter"
           }
          ],
          "scatter3d": [
           {
            "line": {
             "colorbar": {
              "outlinewidth": 0,
              "ticks": ""
             }
            },
            "marker": {
             "colorbar": {
              "outlinewidth": 0,
              "ticks": ""
             }
            },
            "type": "scatter3d"
           }
          ],
          "scattercarpet": [
           {
            "marker": {
             "colorbar": {
              "outlinewidth": 0,
              "ticks": ""
             }
            },
            "type": "scattercarpet"
           }
          ],
          "scattergeo": [
           {
            "marker": {
             "colorbar": {
              "outlinewidth": 0,
              "ticks": ""
             }
            },
            "type": "scattergeo"
           }
          ],
          "scattergl": [
           {
            "marker": {
             "colorbar": {
              "outlinewidth": 0,
              "ticks": ""
             }
            },
            "type": "scattergl"
           }
          ],
          "scattermap": [
           {
            "marker": {
             "colorbar": {
              "outlinewidth": 0,
              "ticks": ""
             }
            },
            "type": "scattermap"
           }
          ],
          "scattermapbox": [
           {
            "marker": {
             "colorbar": {
              "outlinewidth": 0,
              "ticks": ""
             }
            },
            "type": "scattermapbox"
           }
          ],
          "scatterpolar": [
           {
            "marker": {
             "colorbar": {
              "outlinewidth": 0,
              "ticks": ""
             }
            },
            "type": "scatterpolar"
           }
          ],
          "scatterpolargl": [
           {
            "marker": {
             "colorbar": {
              "outlinewidth": 0,
              "ticks": ""
             }
            },
            "type": "scatterpolargl"
           }
          ],
          "scatterternary": [
           {
            "marker": {
             "colorbar": {
              "outlinewidth": 0,
              "ticks": ""
             }
            },
            "type": "scatterternary"
           }
          ],
          "surface": [
           {
            "colorbar": {
             "outlinewidth": 0,
             "ticks": ""
            },
            "colorscale": [
             [
              0,
              "#0d0887"
             ],
             [
              0.1111111111111111,
              "#46039f"
             ],
             [
              0.2222222222222222,
              "#7201a8"
             ],
             [
              0.3333333333333333,
              "#9c179e"
             ],
             [
              0.4444444444444444,
              "#bd3786"
             ],
             [
              0.5555555555555556,
              "#d8576b"
             ],
             [
              0.6666666666666666,
              "#ed7953"
             ],
             [
              0.7777777777777778,
              "#fb9f3a"
             ],
             [
              0.8888888888888888,
              "#fdca26"
             ],
             [
              1,
              "#f0f921"
             ]
            ],
            "type": "surface"
           }
          ],
          "table": [
           {
            "cells": {
             "fill": {
              "color": "#EBF0F8"
             },
             "line": {
              "color": "white"
             }
            },
            "header": {
             "fill": {
              "color": "#C8D4E3"
             },
             "line": {
              "color": "white"
             }
            },
            "type": "table"
           }
          ]
         },
         "layout": {
          "annotationdefaults": {
           "arrowcolor": "#2a3f5f",
           "arrowhead": 0,
           "arrowwidth": 1
          },
          "autotypenumbers": "strict",
          "coloraxis": {
           "colorbar": {
            "outlinewidth": 0,
            "ticks": ""
           }
          },
          "colorscale": {
           "diverging": [
            [
             0,
             "#8e0152"
            ],
            [
             0.1,
             "#c51b7d"
            ],
            [
             0.2,
             "#de77ae"
            ],
            [
             0.3,
             "#f1b6da"
            ],
            [
             0.4,
             "#fde0ef"
            ],
            [
             0.5,
             "#f7f7f7"
            ],
            [
             0.6,
             "#e6f5d0"
            ],
            [
             0.7,
             "#b8e186"
            ],
            [
             0.8,
             "#7fbc41"
            ],
            [
             0.9,
             "#4d9221"
            ],
            [
             1,
             "#276419"
            ]
           ],
           "sequential": [
            [
             0,
             "#0d0887"
            ],
            [
             0.1111111111111111,
             "#46039f"
            ],
            [
             0.2222222222222222,
             "#7201a8"
            ],
            [
             0.3333333333333333,
             "#9c179e"
            ],
            [
             0.4444444444444444,
             "#bd3786"
            ],
            [
             0.5555555555555556,
             "#d8576b"
            ],
            [
             0.6666666666666666,
             "#ed7953"
            ],
            [
             0.7777777777777778,
             "#fb9f3a"
            ],
            [
             0.8888888888888888,
             "#fdca26"
            ],
            [
             1,
             "#f0f921"
            ]
           ],
           "sequentialminus": [
            [
             0,
             "#0d0887"
            ],
            [
             0.1111111111111111,
             "#46039f"
            ],
            [
             0.2222222222222222,
             "#7201a8"
            ],
            [
             0.3333333333333333,
             "#9c179e"
            ],
            [
             0.4444444444444444,
             "#bd3786"
            ],
            [
             0.5555555555555556,
             "#d8576b"
            ],
            [
             0.6666666666666666,
             "#ed7953"
            ],
            [
             0.7777777777777778,
             "#fb9f3a"
            ],
            [
             0.8888888888888888,
             "#fdca26"
            ],
            [
             1,
             "#f0f921"
            ]
           ]
          },
          "colorway": [
           "#636efa",
           "#EF553B",
           "#00cc96",
           "#ab63fa",
           "#FFA15A",
           "#19d3f3",
           "#FF6692",
           "#B6E880",
           "#FF97FF",
           "#FECB52"
          ],
          "font": {
           "color": "#2a3f5f"
          },
          "geo": {
           "bgcolor": "white",
           "lakecolor": "white",
           "landcolor": "#E5ECF6",
           "showlakes": true,
           "showland": true,
           "subunitcolor": "white"
          },
          "hoverlabel": {
           "align": "left"
          },
          "hovermode": "closest",
          "mapbox": {
           "style": "light"
          },
          "paper_bgcolor": "white",
          "plot_bgcolor": "#E5ECF6",
          "polar": {
           "angularaxis": {
            "gridcolor": "white",
            "linecolor": "white",
            "ticks": ""
           },
           "bgcolor": "#E5ECF6",
           "radialaxis": {
            "gridcolor": "white",
            "linecolor": "white",
            "ticks": ""
           }
          },
          "scene": {
           "xaxis": {
            "backgroundcolor": "#E5ECF6",
            "gridcolor": "white",
            "gridwidth": 2,
            "linecolor": "white",
            "showbackground": true,
            "ticks": "",
            "zerolinecolor": "white"
           },
           "yaxis": {
            "backgroundcolor": "#E5ECF6",
            "gridcolor": "white",
            "gridwidth": 2,
            "linecolor": "white",
            "showbackground": true,
            "ticks": "",
            "zerolinecolor": "white"
           },
           "zaxis": {
            "backgroundcolor": "#E5ECF6",
            "gridcolor": "white",
            "gridwidth": 2,
            "linecolor": "white",
            "showbackground": true,
            "ticks": "",
            "zerolinecolor": "white"
           }
          },
          "shapedefaults": {
           "line": {
            "color": "#2a3f5f"
           }
          },
          "ternary": {
           "aaxis": {
            "gridcolor": "white",
            "linecolor": "white",
            "ticks": ""
           },
           "baxis": {
            "gridcolor": "white",
            "linecolor": "white",
            "ticks": ""
           },
           "bgcolor": "#E5ECF6",
           "caxis": {
            "gridcolor": "white",
            "linecolor": "white",
            "ticks": ""
           }
          },
          "title": {
           "x": 0.05
          },
          "xaxis": {
           "automargin": true,
           "gridcolor": "white",
           "linecolor": "white",
           "ticks": "",
           "title": {
            "standoff": 15
           },
           "zerolinecolor": "white",
           "zerolinewidth": 2
          },
          "yaxis": {
           "automargin": true,
           "gridcolor": "white",
           "linecolor": "white",
           "ticks": "",
           "title": {
            "standoff": 15
           },
           "zerolinecolor": "white",
           "zerolinewidth": 2
          }
         }
        },
        "xaxis": {
         "anchor": "y",
         "domain": [
          0,
          1
         ],
         "title": {
          "text": "year"
         }
        },
        "yaxis": {
         "anchor": "x",
         "domain": [
          0,
          1
         ],
         "title": {
          "text": "kilotons"
         }
        }
       }
      }
     },
     "metadata": {},
     "output_type": "display_data"
    }
   ],
   "source": [
    "px.line(\n",
    "    total_per_region_by_year, \"year\", \"kilotons\", color=\"region\"\n",
    ")  # kilotons_by_year.png"
   ]
  },
  {
   "cell_type": "markdown",
   "id": "7e2d338c",
   "metadata": {},
   "source": [
    "Now we see that Asia deeply increased its emissions, especially after 2000, while the rest of the world presented no trend."
   ]
  },
  {
   "cell_type": "markdown",
   "id": "2fa85f0d",
   "metadata": {},
   "source": [
    "## Mean Metric Tons per Capita per Region by Year"
   ]
  },
  {
   "cell_type": "markdown",
   "id": "7d6a5713",
   "metadata": {},
   "source": [
    "The problem with stopping here is that we would be comparing only absolute numbers, which may be misleading.\n",
    "\n",
    "In fact, our analysis should address the change in population during this period, for example, and that could be done using the mean Metric Tons Per Capita (mtpc) per region by year:"
   ]
  },
  {
   "cell_type": "code",
   "execution_count": 32,
   "id": "dc8f43ef",
   "metadata": {},
   "outputs": [
    {
     "data": {
      "text/html": [
       "<div>\n",
       "<style scoped>\n",
       "    .dataframe tbody tr th:only-of-type {\n",
       "        vertical-align: middle;\n",
       "    }\n",
       "\n",
       "    .dataframe tbody tr th {\n",
       "        vertical-align: top;\n",
       "    }\n",
       "\n",
       "    .dataframe thead th {\n",
       "        text-align: right;\n",
       "    }\n",
       "</style>\n",
       "<table border=\"1\" class=\"dataframe\">\n",
       "  <thead>\n",
       "    <tr style=\"text-align: right;\">\n",
       "      <th></th>\n",
       "      <th>region</th>\n",
       "      <th>year</th>\n",
       "      <th>mtpc</th>\n",
       "    </tr>\n",
       "  </thead>\n",
       "  <tbody>\n",
       "    <tr>\n",
       "      <th>0</th>\n",
       "      <td>Africa</td>\n",
       "      <td>1990</td>\n",
       "      <td>0.796400</td>\n",
       "    </tr>\n",
       "    <tr>\n",
       "      <th>1</th>\n",
       "      <td>Africa</td>\n",
       "      <td>1991</td>\n",
       "      <td>0.792885</td>\n",
       "    </tr>\n",
       "    <tr>\n",
       "      <th>2</th>\n",
       "      <td>Africa</td>\n",
       "      <td>1992</td>\n",
       "      <td>0.813654</td>\n",
       "    </tr>\n",
       "    <tr>\n",
       "      <th>3</th>\n",
       "      <td>Africa</td>\n",
       "      <td>1993</td>\n",
       "      <td>0.817736</td>\n",
       "    </tr>\n",
       "    <tr>\n",
       "      <th>4</th>\n",
       "      <td>Africa</td>\n",
       "      <td>1994</td>\n",
       "      <td>0.843585</td>\n",
       "    </tr>\n",
       "    <tr>\n",
       "      <th>...</th>\n",
       "      <td>...</td>\n",
       "      <td>...</td>\n",
       "      <td>...</td>\n",
       "    </tr>\n",
       "    <tr>\n",
       "      <th>145</th>\n",
       "      <td>Oceania</td>\n",
       "      <td>2015</td>\n",
       "      <td>3.674286</td>\n",
       "    </tr>\n",
       "    <tr>\n",
       "      <th>146</th>\n",
       "      <td>Oceania</td>\n",
       "      <td>2016</td>\n",
       "      <td>3.942857</td>\n",
       "    </tr>\n",
       "    <tr>\n",
       "      <th>147</th>\n",
       "      <td>Oceania</td>\n",
       "      <td>2017</td>\n",
       "      <td>4.092857</td>\n",
       "    </tr>\n",
       "    <tr>\n",
       "      <th>148</th>\n",
       "      <td>Oceania</td>\n",
       "      <td>2018</td>\n",
       "      <td>3.925714</td>\n",
       "    </tr>\n",
       "    <tr>\n",
       "      <th>149</th>\n",
       "      <td>Oceania</td>\n",
       "      <td>2019</td>\n",
       "      <td>3.926429</td>\n",
       "    </tr>\n",
       "  </tbody>\n",
       "</table>\n",
       "<p>150 rows × 3 columns</p>\n",
       "</div>"
      ],
      "text/plain": [
       "      region  year      mtpc\n",
       "0     Africa  1990  0.796400\n",
       "1     Africa  1991  0.792885\n",
       "2     Africa  1992  0.813654\n",
       "3     Africa  1993  0.817736\n",
       "4     Africa  1994  0.843585\n",
       "..       ...   ...       ...\n",
       "145  Oceania  2015  3.674286\n",
       "146  Oceania  2016  3.942857\n",
       "147  Oceania  2017  4.092857\n",
       "148  Oceania  2018  3.925714\n",
       "149  Oceania  2019  3.926429\n",
       "\n",
       "[150 rows x 3 columns]"
      ]
     },
     "metadata": {},
     "output_type": "display_data"
    }
   ],
   "source": [
    "mtpc_per_region_by_year = (\n",
    "    df.groupby([\"region\", \"year\"])[\"mtpc\"].mean().to_frame().reset_index()\n",
    ")\n",
    "display(mtpc_per_region_by_year)"
   ]
  },
  {
   "cell_type": "code",
   "execution_count": 33,
   "id": "c7be1879",
   "metadata": {},
   "outputs": [
    {
     "data": {
      "application/vnd.plotly.v1+json": {
       "config": {
        "plotlyServerURL": "https://plot.ly"
       },
       "data": [
        {
         "hovertemplate": "region=Africa<br>year=%{x}<br>mtpc=%{y}<extra></extra>",
         "legendgroup": "Africa",
         "line": {
          "color": "#636efa",
          "dash": "solid"
         },
         "marker": {
          "symbol": "circle"
         },
         "mode": "lines",
         "name": "Africa",
         "orientation": "v",
         "showlegend": true,
         "type": "scatter",
         "x": {
          "bdata": "xgfHB8gHyQfKB8sHzAfNB84HzwfQB9EH0gfTB9QH1QfWB9cH2AfZB9oH2wfcB90H3gffB+AH4QfiB+MH",
          "dtype": "i2"
         },
         "xaxis": "x",
         "y": {
          "bdata": "zhlR2ht86T/BgpKOT1/pPzHab8pzCeo/guAOX+Qq6j/1vKbFpf7qP/B+i6ZqOOw/xjQZYM6y7T9ucbCgpOPtP4tXJPG9iu8/XnXvkKgi8D+c8lwCWcPuP4JMxCgBIvA/D/zAD/zA8D/sB5ODE+fwPzhgBrsYgPE/Q9x1D6lC8D85bJ/SBTnwP3ZxGw3gLfA/WFhYWFhY8D/xhclUwajwP+uEHrhR6/A/IVSHuu0g8D+wcmiR7XzxP6ROQBNhw/E/Cz5xpNcK8j+ZKhiV1AnyP3lYqDXNO/I/lHR8+tri8j8PQnWo2w7yP8Fn42PH2PI/",
          "dtype": "f8"
         },
         "yaxis": "y"
        },
        {
         "hovertemplate": "region=Americas<br>year=%{x}<br>mtpc=%{y}<extra></extra>",
         "legendgroup": "Americas",
         "line": {
          "color": "#EF553B",
          "dash": "solid"
         },
         "marker": {
          "symbol": "circle"
         },
         "mode": "lines",
         "name": "Americas",
         "orientation": "v",
         "showlegend": true,
         "type": "scatter",
         "x": {
          "bdata": "xgfHB8gHyQfKB8sHzAfNB84HzwfQB9EH0gfTB9QH1QfWB9cH2AfZB9oH2wfcB90H3gffB+AH4QfiB+MH",
          "dtype": "i2"
         },
         "xaxis": "x",
         "y": {
          "bdata": "LpT6YMctCUA4a57RBDgJQAFnzTOaAAtAkyzGX/mSCUAUR3qt4BMJQMNvBj6EtAlAlQ5Z6ZCVCkBg5dAi2/kKQCqTWxXlEwxAWALodYfTC0Cb0GXsiIQLQA923EKpDwxAKRl+M/AhDEAiKlBKht8MQBYVFRUVFQ1AioqKioqKDUDodYfTxz8OQOFDSFtY9g5AJsBZ84wmDkCw/wj7j7AUQAg7bqHUBw5ARqwSed9FD0A9CtejcD0RQGKVyPsuYg9AOX38I8+0DkB7FK5H4XoOQNYpk1sV5Q1ANK0QFSglDUDoTrUbgugNQOZLshh/5Q1A",
          "dtype": "f8"
         },
         "yaxis": "y"
        },
        {
         "hovertemplate": "region=Asia<br>year=%{x}<br>mtpc=%{y}<extra></extra>",
         "legendgroup": "Asia",
         "line": {
          "color": "#00cc96",
          "dash": "solid"
         },
         "marker": {
          "symbol": "circle"
         },
         "mode": "lines",
         "name": "Asia",
         "orientation": "v",
         "showlegend": true,
         "type": "scatter",
         "x": {
          "bdata": "xgfHB8gHyQfKB8sHzAfNB84HzwfQB9EH0gfTB9QH1QfWB9cH2AfZB9oH2wfcB90H3gffB+AH4QfiB+MH",
          "dtype": "i2"
         },
         "xaxis": "x",
         "y": {
          "bdata": "k0ysQ5jWFkAI01rMizoWQMb9uqTyYRZAPQrXo3C9FkBhm53iPUsXQL3AXZRkzhdAvelNb3pTF0DrUbgehesXQNZiXtQdgxdAb7vlBMvIF0ASXduMcYkYQO8YOP77NhhAIU0SNJdGGEDEOoRpLWYZQHirG6cnRhlAO96cUKKBGUDBkRXrny4aQPK/ye4IwRlA18orYQ7yGUDupK2VV8IYQH0Y9+uSyhlAo76zUd/ZGUAAdTFrDFEaQF/UHQPHfxpAvSpg2GYnGkA4/vu2W84ZQAYM2+wU7xlAU4BFZ8p5GUBqLeZF3bEZQEhjn+aG7xlA",
          "dtype": "f8"
         },
         "yaxis": "y"
        },
        {
         "hovertemplate": "region=Europa<br>year=%{x}<br>mtpc=%{y}<extra></extra>",
         "legendgroup": "Europa",
         "line": {
          "color": "#ab63fa",
          "dash": "solid"
         },
         "marker": {
          "symbol": "circle"
         },
         "mode": "lines",
         "name": "Europa",
         "orientation": "v",
         "showlegend": true,
         "type": "scatter",
         "x": {
          "bdata": "xgfHB8gHyQfKB8sHzAfNB84HzwfQB9EH0gfTB9QH1QfWB9cH2AfZB9oH2wfcB90H3gffB+AH4QfiB+MH",
          "dtype": "i2"
         },
         "xaxis": "x",
         "y": {
          "bdata": "WDm0yHYeIUDRItv5fpogQMh2vp8abx9ALFOzMjUrH0AA/gfgfwAeQEnYnoTtSR1ATMzOxOxMHkC4HoXrUbgdQIAC9idgfx1AvgfhexC+HECwOxG7E7EcQG9H4nYkbh1AexC+B+F7HUCsUL0K1aseQOF6FK5H4R5Ai9StSN2KHkDC+hSsT8EeQHsUrkfh2h1A9DMwPwPzHUDdJAaBlWMbQNIi2/l+ihxAWDm0yHa+G0BQjZduEsMaQLir7h0SVRlAYJ+Pk9LCGECa3QwBRHMYQKea3QwBRBhAAAAAAACAGEDVjiA89YYYQKevLQ4WlBdA",
          "dtype": "f8"
         },
         "yaxis": "y"
        },
        {
         "hovertemplate": "region=Oceania<br>year=%{x}<br>mtpc=%{y}<extra></extra>",
         "legendgroup": "Oceania",
         "line": {
          "color": "#FFA15A",
          "dash": "solid"
         },
         "marker": {
          "symbol": "circle"
         },
         "mode": "lines",
         "name": "Oceania",
         "orientation": "v",
         "showlegend": true,
         "type": "scatter",
         "x": {
          "bdata": "xgfHB8gHyQfKB8sHzAfNB84HzwfQB9EH0gfTB9QH1QfWB9cH2AfZB9oH2wfcB90H3gffB+AH4QfiB+MH",
          "dtype": "i2"
         },
         "xaxis": "x",
         "y": {
          "bdata": "pFVMWsWkDUAqQZ4S5CkNQBWuR+F6FA9AUQd1UAd1DkAoq+WNEUwOQAbEptKQcw5AKg0599kFDkDJuc8uIDYOQMWm0pBznw5AiE2lIec+DkBFfyer5Y0OQLer7h0SVQZA6qAO6qAOD0A3RjDR38kOQL7QC73QCwdA7MRO7MROCECuR+F6FK4PQPiKr/iKrw5AHtRBHdRBDUABsak05NwMQBWuR+F6FARA5o0RTPR3DEBWyxsjmOgMQLJa3hjBRA1Aymp5YwQTDUAbI5jo72QNQLD4iq/4ig9A8RVf8RVfEECxqTTk3GcPQPvsAmJTaQ9A",
          "dtype": "f8"
         },
         "yaxis": "y"
        }
       ],
       "layout": {
        "legend": {
         "title": {
          "text": "region"
         },
         "tracegroupgap": 0
        },
        "margin": {
         "t": 60
        },
        "template": {
         "data": {
          "bar": [
           {
            "error_x": {
             "color": "#2a3f5f"
            },
            "error_y": {
             "color": "#2a3f5f"
            },
            "marker": {
             "line": {
              "color": "#E5ECF6",
              "width": 0.5
             },
             "pattern": {
              "fillmode": "overlay",
              "size": 10,
              "solidity": 0.2
             }
            },
            "type": "bar"
           }
          ],
          "barpolar": [
           {
            "marker": {
             "line": {
              "color": "#E5ECF6",
              "width": 0.5
             },
             "pattern": {
              "fillmode": "overlay",
              "size": 10,
              "solidity": 0.2
             }
            },
            "type": "barpolar"
           }
          ],
          "carpet": [
           {
            "aaxis": {
             "endlinecolor": "#2a3f5f",
             "gridcolor": "white",
             "linecolor": "white",
             "minorgridcolor": "white",
             "startlinecolor": "#2a3f5f"
            },
            "baxis": {
             "endlinecolor": "#2a3f5f",
             "gridcolor": "white",
             "linecolor": "white",
             "minorgridcolor": "white",
             "startlinecolor": "#2a3f5f"
            },
            "type": "carpet"
           }
          ],
          "choropleth": [
           {
            "colorbar": {
             "outlinewidth": 0,
             "ticks": ""
            },
            "type": "choropleth"
           }
          ],
          "contour": [
           {
            "colorbar": {
             "outlinewidth": 0,
             "ticks": ""
            },
            "colorscale": [
             [
              0,
              "#0d0887"
             ],
             [
              0.1111111111111111,
              "#46039f"
             ],
             [
              0.2222222222222222,
              "#7201a8"
             ],
             [
              0.3333333333333333,
              "#9c179e"
             ],
             [
              0.4444444444444444,
              "#bd3786"
             ],
             [
              0.5555555555555556,
              "#d8576b"
             ],
             [
              0.6666666666666666,
              "#ed7953"
             ],
             [
              0.7777777777777778,
              "#fb9f3a"
             ],
             [
              0.8888888888888888,
              "#fdca26"
             ],
             [
              1,
              "#f0f921"
             ]
            ],
            "type": "contour"
           }
          ],
          "contourcarpet": [
           {
            "colorbar": {
             "outlinewidth": 0,
             "ticks": ""
            },
            "type": "contourcarpet"
           }
          ],
          "heatmap": [
           {
            "colorbar": {
             "outlinewidth": 0,
             "ticks": ""
            },
            "colorscale": [
             [
              0,
              "#0d0887"
             ],
             [
              0.1111111111111111,
              "#46039f"
             ],
             [
              0.2222222222222222,
              "#7201a8"
             ],
             [
              0.3333333333333333,
              "#9c179e"
             ],
             [
              0.4444444444444444,
              "#bd3786"
             ],
             [
              0.5555555555555556,
              "#d8576b"
             ],
             [
              0.6666666666666666,
              "#ed7953"
             ],
             [
              0.7777777777777778,
              "#fb9f3a"
             ],
             [
              0.8888888888888888,
              "#fdca26"
             ],
             [
              1,
              "#f0f921"
             ]
            ],
            "type": "heatmap"
           }
          ],
          "histogram": [
           {
            "marker": {
             "pattern": {
              "fillmode": "overlay",
              "size": 10,
              "solidity": 0.2
             }
            },
            "type": "histogram"
           }
          ],
          "histogram2d": [
           {
            "colorbar": {
             "outlinewidth": 0,
             "ticks": ""
            },
            "colorscale": [
             [
              0,
              "#0d0887"
             ],
             [
              0.1111111111111111,
              "#46039f"
             ],
             [
              0.2222222222222222,
              "#7201a8"
             ],
             [
              0.3333333333333333,
              "#9c179e"
             ],
             [
              0.4444444444444444,
              "#bd3786"
             ],
             [
              0.5555555555555556,
              "#d8576b"
             ],
             [
              0.6666666666666666,
              "#ed7953"
             ],
             [
              0.7777777777777778,
              "#fb9f3a"
             ],
             [
              0.8888888888888888,
              "#fdca26"
             ],
             [
              1,
              "#f0f921"
             ]
            ],
            "type": "histogram2d"
           }
          ],
          "histogram2dcontour": [
           {
            "colorbar": {
             "outlinewidth": 0,
             "ticks": ""
            },
            "colorscale": [
             [
              0,
              "#0d0887"
             ],
             [
              0.1111111111111111,
              "#46039f"
             ],
             [
              0.2222222222222222,
              "#7201a8"
             ],
             [
              0.3333333333333333,
              "#9c179e"
             ],
             [
              0.4444444444444444,
              "#bd3786"
             ],
             [
              0.5555555555555556,
              "#d8576b"
             ],
             [
              0.6666666666666666,
              "#ed7953"
             ],
             [
              0.7777777777777778,
              "#fb9f3a"
             ],
             [
              0.8888888888888888,
              "#fdca26"
             ],
             [
              1,
              "#f0f921"
             ]
            ],
            "type": "histogram2dcontour"
           }
          ],
          "mesh3d": [
           {
            "colorbar": {
             "outlinewidth": 0,
             "ticks": ""
            },
            "type": "mesh3d"
           }
          ],
          "parcoords": [
           {
            "line": {
             "colorbar": {
              "outlinewidth": 0,
              "ticks": ""
             }
            },
            "type": "parcoords"
           }
          ],
          "pie": [
           {
            "automargin": true,
            "type": "pie"
           }
          ],
          "scatter": [
           {
            "fillpattern": {
             "fillmode": "overlay",
             "size": 10,
             "solidity": 0.2
            },
            "type": "scatter"
           }
          ],
          "scatter3d": [
           {
            "line": {
             "colorbar": {
              "outlinewidth": 0,
              "ticks": ""
             }
            },
            "marker": {
             "colorbar": {
              "outlinewidth": 0,
              "ticks": ""
             }
            },
            "type": "scatter3d"
           }
          ],
          "scattercarpet": [
           {
            "marker": {
             "colorbar": {
              "outlinewidth": 0,
              "ticks": ""
             }
            },
            "type": "scattercarpet"
           }
          ],
          "scattergeo": [
           {
            "marker": {
             "colorbar": {
              "outlinewidth": 0,
              "ticks": ""
             }
            },
            "type": "scattergeo"
           }
          ],
          "scattergl": [
           {
            "marker": {
             "colorbar": {
              "outlinewidth": 0,
              "ticks": ""
             }
            },
            "type": "scattergl"
           }
          ],
          "scattermap": [
           {
            "marker": {
             "colorbar": {
              "outlinewidth": 0,
              "ticks": ""
             }
            },
            "type": "scattermap"
           }
          ],
          "scattermapbox": [
           {
            "marker": {
             "colorbar": {
              "outlinewidth": 0,
              "ticks": ""
             }
            },
            "type": "scattermapbox"
           }
          ],
          "scatterpolar": [
           {
            "marker": {
             "colorbar": {
              "outlinewidth": 0,
              "ticks": ""
             }
            },
            "type": "scatterpolar"
           }
          ],
          "scatterpolargl": [
           {
            "marker": {
             "colorbar": {
              "outlinewidth": 0,
              "ticks": ""
             }
            },
            "type": "scatterpolargl"
           }
          ],
          "scatterternary": [
           {
            "marker": {
             "colorbar": {
              "outlinewidth": 0,
              "ticks": ""
             }
            },
            "type": "scatterternary"
           }
          ],
          "surface": [
           {
            "colorbar": {
             "outlinewidth": 0,
             "ticks": ""
            },
            "colorscale": [
             [
              0,
              "#0d0887"
             ],
             [
              0.1111111111111111,
              "#46039f"
             ],
             [
              0.2222222222222222,
              "#7201a8"
             ],
             [
              0.3333333333333333,
              "#9c179e"
             ],
             [
              0.4444444444444444,
              "#bd3786"
             ],
             [
              0.5555555555555556,
              "#d8576b"
             ],
             [
              0.6666666666666666,
              "#ed7953"
             ],
             [
              0.7777777777777778,
              "#fb9f3a"
             ],
             [
              0.8888888888888888,
              "#fdca26"
             ],
             [
              1,
              "#f0f921"
             ]
            ],
            "type": "surface"
           }
          ],
          "table": [
           {
            "cells": {
             "fill": {
              "color": "#EBF0F8"
             },
             "line": {
              "color": "white"
             }
            },
            "header": {
             "fill": {
              "color": "#C8D4E3"
             },
             "line": {
              "color": "white"
             }
            },
            "type": "table"
           }
          ]
         },
         "layout": {
          "annotationdefaults": {
           "arrowcolor": "#2a3f5f",
           "arrowhead": 0,
           "arrowwidth": 1
          },
          "autotypenumbers": "strict",
          "coloraxis": {
           "colorbar": {
            "outlinewidth": 0,
            "ticks": ""
           }
          },
          "colorscale": {
           "diverging": [
            [
             0,
             "#8e0152"
            ],
            [
             0.1,
             "#c51b7d"
            ],
            [
             0.2,
             "#de77ae"
            ],
            [
             0.3,
             "#f1b6da"
            ],
            [
             0.4,
             "#fde0ef"
            ],
            [
             0.5,
             "#f7f7f7"
            ],
            [
             0.6,
             "#e6f5d0"
            ],
            [
             0.7,
             "#b8e186"
            ],
            [
             0.8,
             "#7fbc41"
            ],
            [
             0.9,
             "#4d9221"
            ],
            [
             1,
             "#276419"
            ]
           ],
           "sequential": [
            [
             0,
             "#0d0887"
            ],
            [
             0.1111111111111111,
             "#46039f"
            ],
            [
             0.2222222222222222,
             "#7201a8"
            ],
            [
             0.3333333333333333,
             "#9c179e"
            ],
            [
             0.4444444444444444,
             "#bd3786"
            ],
            [
             0.5555555555555556,
             "#d8576b"
            ],
            [
             0.6666666666666666,
             "#ed7953"
            ],
            [
             0.7777777777777778,
             "#fb9f3a"
            ],
            [
             0.8888888888888888,
             "#fdca26"
            ],
            [
             1,
             "#f0f921"
            ]
           ],
           "sequentialminus": [
            [
             0,
             "#0d0887"
            ],
            [
             0.1111111111111111,
             "#46039f"
            ],
            [
             0.2222222222222222,
             "#7201a8"
            ],
            [
             0.3333333333333333,
             "#9c179e"
            ],
            [
             0.4444444444444444,
             "#bd3786"
            ],
            [
             0.5555555555555556,
             "#d8576b"
            ],
            [
             0.6666666666666666,
             "#ed7953"
            ],
            [
             0.7777777777777778,
             "#fb9f3a"
            ],
            [
             0.8888888888888888,
             "#fdca26"
            ],
            [
             1,
             "#f0f921"
            ]
           ]
          },
          "colorway": [
           "#636efa",
           "#EF553B",
           "#00cc96",
           "#ab63fa",
           "#FFA15A",
           "#19d3f3",
           "#FF6692",
           "#B6E880",
           "#FF97FF",
           "#FECB52"
          ],
          "font": {
           "color": "#2a3f5f"
          },
          "geo": {
           "bgcolor": "white",
           "lakecolor": "white",
           "landcolor": "#E5ECF6",
           "showlakes": true,
           "showland": true,
           "subunitcolor": "white"
          },
          "hoverlabel": {
           "align": "left"
          },
          "hovermode": "closest",
          "mapbox": {
           "style": "light"
          },
          "paper_bgcolor": "white",
          "plot_bgcolor": "#E5ECF6",
          "polar": {
           "angularaxis": {
            "gridcolor": "white",
            "linecolor": "white",
            "ticks": ""
           },
           "bgcolor": "#E5ECF6",
           "radialaxis": {
            "gridcolor": "white",
            "linecolor": "white",
            "ticks": ""
           }
          },
          "scene": {
           "xaxis": {
            "backgroundcolor": "#E5ECF6",
            "gridcolor": "white",
            "gridwidth": 2,
            "linecolor": "white",
            "showbackground": true,
            "ticks": "",
            "zerolinecolor": "white"
           },
           "yaxis": {
            "backgroundcolor": "#E5ECF6",
            "gridcolor": "white",
            "gridwidth": 2,
            "linecolor": "white",
            "showbackground": true,
            "ticks": "",
            "zerolinecolor": "white"
           },
           "zaxis": {
            "backgroundcolor": "#E5ECF6",
            "gridcolor": "white",
            "gridwidth": 2,
            "linecolor": "white",
            "showbackground": true,
            "ticks": "",
            "zerolinecolor": "white"
           }
          },
          "shapedefaults": {
           "line": {
            "color": "#2a3f5f"
           }
          },
          "ternary": {
           "aaxis": {
            "gridcolor": "white",
            "linecolor": "white",
            "ticks": ""
           },
           "baxis": {
            "gridcolor": "white",
            "linecolor": "white",
            "ticks": ""
           },
           "bgcolor": "#E5ECF6",
           "caxis": {
            "gridcolor": "white",
            "linecolor": "white",
            "ticks": ""
           }
          },
          "title": {
           "x": 0.05
          },
          "xaxis": {
           "automargin": true,
           "gridcolor": "white",
           "linecolor": "white",
           "ticks": "",
           "title": {
            "standoff": 15
           },
           "zerolinecolor": "white",
           "zerolinewidth": 2
          },
          "yaxis": {
           "automargin": true,
           "gridcolor": "white",
           "linecolor": "white",
           "ticks": "",
           "title": {
            "standoff": 15
           },
           "zerolinecolor": "white",
           "zerolinewidth": 2
          }
         }
        },
        "xaxis": {
         "anchor": "y",
         "domain": [
          0,
          1
         ],
         "title": {
          "text": "year"
         }
        },
        "yaxis": {
         "anchor": "x",
         "domain": [
          0,
          1
         ],
         "title": {
          "text": "mtpc"
         }
        }
       }
      }
     },
     "metadata": {},
     "output_type": "display_data"
    }
   ],
   "source": [
    "px.line(\n",
    "    mtpc_per_region_by_year, \"year\", \"mtpc\", color=\"region\"\n",
    ")  # mtpc_by_year.png"
   ]
  },
  {
   "cell_type": "markdown",
   "id": "fbb957cf",
   "metadata": {},
   "source": [
    "Now it is clear from context that the mean metric tons per capita emitted in Asia has not increased much, which means that a fast population growth with approximately the same level of efficiency in terms of energy generation has lead to the sharp rise in emissions."
   ]
  }
 ],
 "metadata": {
  "kernelspec": {
   "display_name": "kilotons",
   "language": "python",
   "name": "python3"
  },
  "language_info": {
   "codemirror_mode": {
    "name": "ipython",
    "version": 3
   },
   "file_extension": ".py",
   "mimetype": "text/x-python",
   "name": "python",
   "nbconvert_exporter": "python",
   "pygments_lexer": "ipython3",
   "version": "3.12.10"
  }
 },
 "nbformat": 4,
 "nbformat_minor": 5
}
